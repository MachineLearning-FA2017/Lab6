{
 "cells": [
  {
   "cell_type": "code",
   "execution_count": null,
   "metadata": {
    "collapsed": true
   },
   "outputs": [],
   "source": [
    "import numpy as np\n",
    "import random"
   ]
  },
  {
   "cell_type": "code",
   "execution_count": null,
   "metadata": {
    "collapsed": true
   },
   "outputs": [],
   "source": [
    "class MyEnsemble(c, X, y):\n",
    "    def __init__(self):\n",
    "        self.c = c\n",
    "        self._w = []\n",
    "        self.X = X\n",
    "        self.y = y\n",
    "        self._p = []\n",
    "        self._bags\n",
    "    def predict(self){\n",
    "        totals = self._p.T * self.w\n",
    "        return(np.amax(totals))    \n",
    "    }\n",
    "    def fit(self){\n",
    "        i = 0\n",
    "        for n in self.c:\n",
    "            for classifier, bags in zip(self.c[i], self._bags[i]):\n",
    "                # want to fit each classifier with each vector in bag\n",
    "                classifier.predict_proba(bags)\n",
    "            i+=1\n",
    "    }\n",
    "    def _predict_c(self){\n",
    "        self._p = np.hstack(predict_proba(self.X))\n",
    "    }\n",
    "    def _sample(self){\n",
    "        self._bags = self.X[np.random.randint(len(self.c), 20), :]\n",
    "    }"
   ]
  }
 ],
 "metadata": {
  "kernelspec": {
   "display_name": "Python 3",
   "language": "python",
   "name": "python3"
  },
  "language_info": {
   "codemirror_mode": {
    "name": "ipython",
    "version": 3
   },
   "file_extension": ".py",
   "mimetype": "text/x-python",
   "name": "python",
   "nbconvert_exporter": "python",
   "pygments_lexer": "ipython3",
   "version": "3.6.0"
  }
 },
 "nbformat": 4,
 "nbformat_minor": 2
}
