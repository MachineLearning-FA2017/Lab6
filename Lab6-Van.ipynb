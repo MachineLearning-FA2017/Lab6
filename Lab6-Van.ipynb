{
 "cells": [
  {
   "cell_type": "code",
   "execution_count": 1,
   "metadata": {
    "collapsed": false
   },
   "outputs": [],
   "source": [
    "import itertools\n",
    "import pandas as pd\n",
    "import numpy as np\n",
    "import matplotlib.pyplot as plt\n",
    "import warnings\n",
    "warnings.simplefilter('ignore', DeprecationWarning)\n",
    "%matplotlib inline \n",
    "%load_ext memory_profiler\n",
    "from sklearn.metrics import make_scorer\n",
    "from scipy.special import expit\n",
    "import time\n",
    "import math\n",
    "import random\n",
    "from memory_profiler import memory_usage\n",
    "from sklearn import metrics as mt\n",
    "from sklearn.neural_network import MLPClassifier\n",
    "from sklearn.model_selection import StratifiedKFold\n",
    "\n",
    "\n",
    "\n",
    "from sklearn.decomposition import PCA\n",
    "from sklearn.pipeline import Pipeline\n",
    "from sklearn.model_selection import GridSearchCV\n",
    "\n",
    "target_classifier = 'PC'\n",
    "df = pd.read_csv('responses.csv', sep=\",\")"
   ]
  },
  {
   "cell_type": "code",
   "execution_count": 2,
   "metadata": {
    "collapsed": true
   },
   "outputs": [],
   "source": [
    "# remove rows whose target classfier value is NaN\n",
    "df_cleaned_classifier = df[np.isfinite(df[target_classifier])]\n",
    "# change NaN number values to the mean\n",
    "df_imputed = df_cleaned_classifier.fillna(df.mean())\n",
    "# get categorical features\n",
    "object_features = list(df_cleaned_classifier.select_dtypes(include=['object']).columns)\n",
    "# one hot encode categorical features\n",
    "one_hot_df = pd.concat([pd.get_dummies(df_imputed[col],prefix=col) for col in object_features], axis=1)\n",
    "# drop object features from imputed dataframe\n",
    "df_imputed_dropped = df_imputed.drop(object_features, 1)\n",
    "frames = [df_imputed_dropped, one_hot_df]\n",
    "# concatenate both frames by columns\n",
    "df_fixed = pd.concat(frames, axis=1)"
   ]
  },
  {
   "cell_type": "code",
   "execution_count": 3,
   "metadata": {
    "collapsed": false
   },
   "outputs": [
    {
     "data": {
      "text/plain": [
       "make_scorer(get_confusion_costTot, greater_is_better=False)"
      ]
     },
     "execution_count": 3,
     "metadata": {},
     "output_type": "execute_result"
    }
   ],
   "source": [
    "# Research on Cost Matrix\n",
    "# http://www.ibm.com/support/knowledgecenter/SSEPGG_11.1.0/com.ibm.im.model.doc/c_cost_matrix.html\n",
    "\n",
    "cost_matrix = np.matrix([[0,1,2,3,4],\n",
    "[1,0,1,2,3],\n",
    "[3,1,0,1,2],\n",
    "[5,3,1,0,1],\n",
    "[7,5,2,1,0]])\n",
    "\n",
    "def get_confusion_costTot(confusion_matrix, cost_matrix):\n",
    "    score = np.sum(confusion_matrix*cost_matrix)\n",
    "    return score\n",
    "\n",
    "confusion_scorer = make_scorer(get_confusion_costTot, greater_is_better=False)\n",
    "confusion_scorer"
   ]
  },
  {
   "cell_type": "code",
   "execution_count": 4,
   "metadata": {
    "collapsed": false
   },
   "outputs": [
    {
     "name": "stdout",
     "output_type": "stream",
     "text": [
      "StratifiedKFold(n_splits=10, random_state=None, shuffle=True)\n"
     ]
    }
   ],
   "source": [
    "from sklearn.model_selection import ShuffleSplit\n",
    "\n",
    "# we want to predict the X and y data as follows:\n",
    "if target_classifier in df_fixed:\n",
    "    y = df_fixed[target_classifier].values # get the labels we want\n",
    "    del df_fixed[target_classifier] # get rid of the class label\n",
    "    X = df_fixed.values # use everything else to predict!\n",
    "\n",
    "X = X/5\n",
    "num_folds = 10\n",
    "\n",
    "cv_object = StratifiedKFold(n_splits= num_folds, random_state=None, shuffle=True)\n",
    "cv_object.split(X,y)\n",
    "\n",
    "print(cv_object)"
   ]
  },
  {
   "cell_type": "code",
   "execution_count": 5,
   "metadata": {
    "collapsed": false
   },
   "outputs": [],
   "source": [
    "for train_indices, test_indices in cv_object.split(X,y): \n",
    "        # I will create new variables here so that it is more obvious what \n",
    "        # the code is doing (you can compact this syntax and avoid duplicating memory,\n",
    "        # but it makes this code less readable)\n",
    "        X_train = (X[train_indices])\n",
    "        y_train = y[train_indices]\n",
    "\n",
    "    #     print(X_train)\n",
    "    #     print(y_train)\n",
    "\n",
    "        X_test = (X[test_indices])\n",
    "        y_test = y[test_indices]"
   ]
  },
  {
   "cell_type": "code",
   "execution_count": 6,
   "metadata": {
    "collapsed": false
   },
   "outputs": [],
   "source": [
    "\n",
    "\n",
    "\n",
    "clf = MLPClassifier()\n",
    "    \n",
    "\n"
   ]
  },
  {
   "cell_type": "code",
   "execution_count": 7,
   "metadata": {
    "collapsed": false
   },
   "outputs": [],
   "source": [
    "from sklearn.ensemble import BaggingClassifier\n",
    "\n",
    "class MyEnsemble():\n",
    "    \n",
    "    def __init__(self, c, num_c, max_s, v):\n",
    "        self.Ensemble = BaggingClassifier(base_estimator= c,\n",
    "                                    n_estimators = num_c,\n",
    "                                     max_samples = max_s,\n",
    "                                     verbose = v)\n",
    "    def predict(self, X):\n",
    "        return self.Ensemble.predict(X)\n",
    "    \n",
    "    def fit(self, X,y):\n",
    "        self.Ensemble.fit(X,y)\n",
    "        \n",
    "        \n",
    "    def predict_proba(self, X):\n",
    "        return self.Ensemble.predict_proba(X)"
   ]
  },
  {
   "cell_type": "code",
   "execution_count": 8,
   "metadata": {
    "collapsed": false
   },
   "outputs": [
    {
     "name": "stdout",
     "output_type": "stream",
     "text": [
      "[[ 2  1  3  1  0]\n",
      " [ 7 11  3  3  3]\n",
      " [ 3  4 11  7  3]\n",
      " [ 1  4  6  3  2]\n",
      " [ 0  0  2  6 12]]\n",
      "(906, 172)\n"
     ]
    }
   ],
   "source": [
    "num_instances = 10\n",
    "\n",
    "\n",
    "ensemble = MyEnsemble(clf, 10,y_train.shape[0],False)\n",
    "\n",
    "ensemble.fit(X_train,y_train)\n",
    "y_hat=ensemble.predict(X_test)\n",
    "# print(y_hat)\n",
    "print(mt.confusion_matrix(y_hat,y_test))\n",
    "\n",
    "print(X_train.shape)"
   ]
  },
  {
   "cell_type": "code",
   "execution_count": 9,
   "metadata": {
    "collapsed": false
   },
   "outputs": [
    {
     "data": {
      "text/plain": [
       "array([[ 0.07261346,  0.39275305,  0.21540101,  0.2528795 ,  0.06635298],\n",
       "       [ 0.15502864,  0.42124164,  0.13576637,  0.22433219,  0.06363117],\n",
       "       [ 0.00392477,  0.02487786,  0.06821975,  0.16312687,  0.73985074],\n",
       "       [ 0.04277557,  0.03377863,  0.20667475,  0.19450573,  0.52226531],\n",
       "       [ 0.02823265,  0.33139554,  0.36153287,  0.15872421,  0.12011472],\n",
       "       [ 0.00539658,  0.02166388,  0.08022311,  0.06711722,  0.82559922],\n",
       "       [ 0.08664212,  0.38301833,  0.28296294,  0.19272667,  0.05464994],\n",
       "       [ 0.04116246,  0.13159183,  0.17430968,  0.41395728,  0.23897875],\n",
       "       [ 0.06745123,  0.49288415,  0.15523913,  0.180574  ,  0.1038515 ],\n",
       "       [ 0.22639684,  0.36540798,  0.22490004,  0.12345141,  0.05984374],\n",
       "       [ 0.03597369,  0.04938047,  0.16381576,  0.53225185,  0.21857822],\n",
       "       [ 0.04222761,  0.21311088,  0.19730913,  0.2652431 ,  0.28210928],\n",
       "       [ 0.0132217 ,  0.06441528,  0.17387181,  0.26000151,  0.48848971],\n",
       "       [ 0.54615499,  0.26185071,  0.1230266 ,  0.03175092,  0.03721678],\n",
       "       [ 0.0621211 ,  0.08887773,  0.2146168 ,  0.30436717,  0.3300172 ],\n",
       "       [ 0.19990207,  0.43501723,  0.06320418,  0.26135922,  0.04051729],\n",
       "       [ 0.07915361,  0.16189291,  0.22536292,  0.43763614,  0.09595442],\n",
       "       [ 0.0595506 ,  0.14862471,  0.26211062,  0.42398455,  0.10572952],\n",
       "       [ 0.17875696,  0.241521  ,  0.41933586,  0.09000059,  0.0703856 ],\n",
       "       [ 0.17141493,  0.44969173,  0.25862163,  0.08418778,  0.03608393],\n",
       "       [ 0.05119388,  0.36041019,  0.2199047 ,  0.26339521,  0.10509602],\n",
       "       [ 0.03710436,  0.09925325,  0.22402662,  0.32179709,  0.31781868],\n",
       "       [ 0.22351045,  0.2554481 ,  0.20058653,  0.22829448,  0.09216043],\n",
       "       [ 0.24791571,  0.4616957 ,  0.10877803,  0.13614975,  0.04546082],\n",
       "       [ 0.4860839 ,  0.28060614,  0.14732854,  0.05117254,  0.03480888],\n",
       "       [ 0.01554207,  0.04102034,  0.0659112 ,  0.26390626,  0.61362013],\n",
       "       [ 0.07595554,  0.22691227,  0.33631   ,  0.28644167,  0.07438052],\n",
       "       [ 0.22624205,  0.31125264,  0.26142677,  0.10445671,  0.09662183],\n",
       "       [ 0.08317629,  0.37128416,  0.17440445,  0.28234356,  0.08879155],\n",
       "       [ 0.0074083 ,  0.05522935,  0.15477808,  0.51486088,  0.26772339],\n",
       "       [ 0.25805741,  0.16330272,  0.31664417,  0.18519904,  0.07679666],\n",
       "       [ 0.01230865,  0.03818387,  0.21385046,  0.16285211,  0.57280491],\n",
       "       [ 0.0505969 ,  0.08801607,  0.45127868,  0.25435936,  0.15574899],\n",
       "       [ 0.01235207,  0.10140569,  0.16890674,  0.31765705,  0.39967844],\n",
       "       [ 0.22530557,  0.27361284,  0.35959464,  0.10352462,  0.03796232],\n",
       "       [ 0.21833027,  0.14078437,  0.52388835,  0.04950263,  0.06749438],\n",
       "       [ 0.05601115,  0.2839739 ,  0.32054412,  0.21731932,  0.12215151],\n",
       "       [ 0.00404083,  0.02710726,  0.04295207,  0.17146813,  0.7544317 ],\n",
       "       [ 0.1272573 ,  0.3646508 ,  0.3512954 ,  0.09188053,  0.06491598],\n",
       "       [ 0.69793952,  0.14154233,  0.07256211,  0.06413406,  0.02382198],\n",
       "       [ 0.20471271,  0.34665181,  0.30974858,  0.09617269,  0.04271421],\n",
       "       [ 0.28995944,  0.44268488,  0.11925849,  0.09913755,  0.04895964],\n",
       "       [ 0.03569732,  0.08340894,  0.33790099,  0.21644393,  0.32654883],\n",
       "       [ 0.05070501,  0.23625938,  0.22711314,  0.42709053,  0.05883193],\n",
       "       [ 0.02624976,  0.09342624,  0.41066043,  0.23132566,  0.23833791],\n",
       "       [ 0.2017974 ,  0.17667772,  0.45042058,  0.09481537,  0.07628893],\n",
       "       [ 0.03568808,  0.21987193,  0.52630046,  0.14244409,  0.07569544],\n",
       "       [ 0.0120019 ,  0.03531901,  0.10793053,  0.24509015,  0.59965841],\n",
       "       [ 0.24286133,  0.27361193,  0.35325873,  0.0734356 ,  0.05683241],\n",
       "       [ 0.01502007,  0.05742839,  0.31462061,  0.38362969,  0.22930125],\n",
       "       [ 0.07248086,  0.37011376,  0.36158779,  0.12596707,  0.06985051],\n",
       "       [ 0.23106351,  0.34747627,  0.24200207,  0.11527513,  0.06418302],\n",
       "       [ 0.00923907,  0.03108113,  0.07739083,  0.25055529,  0.63173368],\n",
       "       [ 0.11319149,  0.14972177,  0.25930562,  0.42350565,  0.05427546],\n",
       "       [ 0.10935136,  0.17822035,  0.24336325,  0.30860529,  0.16045975],\n",
       "       [ 0.08244877,  0.40995847,  0.26948815,  0.12750729,  0.11059732],\n",
       "       [ 0.07798782,  0.25547398,  0.4529203 ,  0.14501794,  0.06859997],\n",
       "       [ 0.36553893,  0.28027063,  0.24116021,  0.05662634,  0.05640388],\n",
       "       [ 0.01090538,  0.04360411,  0.18367288,  0.24343899,  0.51837864],\n",
       "       [ 0.07750901,  0.07812858,  0.28564164,  0.22247731,  0.33624345],\n",
       "       [ 0.13763271,  0.27644236,  0.34250569,  0.19162529,  0.05179395],\n",
       "       [ 0.02519759,  0.07925922,  0.3059308 ,  0.32492424,  0.26468815],\n",
       "       [ 0.04193787,  0.11583458,  0.16212107,  0.28469091,  0.39541557],\n",
       "       [ 0.07718472,  0.13000145,  0.33119902,  0.28776159,  0.17385322],\n",
       "       [ 0.06300586,  0.18920645,  0.5135027 ,  0.17129376,  0.06299123],\n",
       "       [ 0.2173661 ,  0.5646935 ,  0.12688254,  0.05899268,  0.03206517],\n",
       "       [ 0.02981288,  0.1769008 ,  0.24248219,  0.29374963,  0.25705449],\n",
       "       [ 0.17779651,  0.56373351,  0.16023385,  0.06401909,  0.03421704],\n",
       "       [ 0.07612209,  0.23921268,  0.19397445,  0.30927426,  0.18141652],\n",
       "       [ 0.02928045,  0.11405352,  0.37787202,  0.12731809,  0.35147593],\n",
       "       [ 0.02233669,  0.30092047,  0.37804199,  0.24137572,  0.05732514],\n",
       "       [ 0.02954604,  0.0766445 ,  0.43858271,  0.32395573,  0.13127101],\n",
       "       [ 0.03856438,  0.11086391,  0.4124836 ,  0.28182253,  0.15626558],\n",
       "       [ 0.16305244,  0.09141694,  0.59841917,  0.06974826,  0.07736319],\n",
       "       [ 0.11947484,  0.21891411,  0.22725437,  0.38495473,  0.04940196],\n",
       "       [ 0.14807128,  0.43405351,  0.28815593,  0.0931887 ,  0.03653057],\n",
       "       [ 0.12684737,  0.22177127,  0.3141747 ,  0.18388437,  0.15332229],\n",
       "       [ 0.01893932,  0.10917647,  0.20114696,  0.49486216,  0.17587508],\n",
       "       [ 0.01905715,  0.02643933,  0.13928299,  0.33101333,  0.48420719],\n",
       "       [ 0.23103936,  0.43933497,  0.17757103,  0.09856107,  0.05349356],\n",
       "       [ 0.09086678,  0.11152065,  0.45583641,  0.16341245,  0.17836372],\n",
       "       [ 0.07333123,  0.08400587,  0.27591535,  0.45110988,  0.11563767],\n",
       "       [ 0.27617421,  0.36601485,  0.18224094,  0.11134336,  0.06422665],\n",
       "       [ 0.33756626,  0.27738364,  0.24686314,  0.09873839,  0.03944857],\n",
       "       [ 0.00474548,  0.02085519,  0.04456719,  0.17615043,  0.75368171],\n",
       "       [ 0.36088286,  0.23329277,  0.17706435,  0.17724628,  0.05151373],\n",
       "       [ 0.12556462,  0.19808173,  0.39536344,  0.21919695,  0.06179328],\n",
       "       [ 0.12107794,  0.612291  ,  0.15662714,  0.0814701 ,  0.02853382],\n",
       "       [ 0.01796912,  0.17291045,  0.27149705,  0.25493369,  0.28268969],\n",
       "       [ 0.15427459,  0.34168254,  0.22072458,  0.23208899,  0.0512293 ],\n",
       "       [ 0.12502261,  0.43797787,  0.28951226,  0.06705894,  0.08042832],\n",
       "       [ 0.00815898,  0.04258652,  0.09237764,  0.25743579,  0.59944107],\n",
       "       [ 0.03253515,  0.24404197,  0.51883401,  0.17303396,  0.03155491],\n",
       "       [ 0.00584575,  0.01921406,  0.1471099 ,  0.16454746,  0.66328282],\n",
       "       [ 0.3238534 ,  0.50339034,  0.11496819,  0.03898035,  0.01880772],\n",
       "       [ 0.09919629,  0.2464445 ,  0.48916045,  0.08142236,  0.08377641],\n",
       "       [ 0.39912734,  0.22234767,  0.2866254 ,  0.05434078,  0.0375588 ],\n",
       "       [ 0.03750017,  0.21377092,  0.43314265,  0.15656126,  0.159025  ]])"
      ]
     },
     "execution_count": 9,
     "metadata": {},
     "output_type": "execute_result"
    }
   ],
   "source": [
    "ensemble.predict_proba(X_test)"
   ]
  },
  {
   "cell_type": "code",
   "execution_count": 10,
   "metadata": {
    "collapsed": true
   },
   "outputs": [],
   "source": [
    "def plot_confusion_matrix(cm, classes,\n",
    "                          normalize=False,\n",
    "                          title='Confusion matrix',\n",
    "                          cmap=plt.cm.Blues):\n",
    "    \"\"\"\n",
    "    This function prints and plots the confusion matrix.\n",
    "    Normalization can be applied by setting `normalize=True`.\n",
    "    \"\"\"\n",
    "    plt.imshow(cm, interpolation='nearest', cmap=cmap)\n",
    "    plt.title(title)\n",
    "    plt.colorbar()\n",
    "    tick_marks = np.arange(len(classes))\n",
    "    plt.xticks(tick_marks, classes, rotation=45)\n",
    "    plt.yticks(tick_marks, classes)\n",
    "\n",
    "    if normalize:\n",
    "        cm = cm.astype('float') / cm.sum(axis=1)[:, np.newaxis]\n",
    "        print(\"Normalized confusion matrix\")\n",
    "    else:\n",
    "        print('Confusion matrix, without normalization')\n",
    "\n",
    "    print(cm)\n",
    "\n",
    "    thresh = cm.max() / 2.\n",
    "    for i, j in itertools.product(range(cm.shape[0]), range(cm.shape[1])):\n",
    "        plt.text(j, i, cm[i, j],\n",
    "                 horizontalalignment=\"center\",\n",
    "                 color=\"white\" if cm[i, j] > thresh else \"black\")\n",
    "\n",
    "    plt.tight_layout()\n",
    "    plt.ylabel('True label')\n",
    "    plt.xlabel('Predicted label')"
   ]
  },
  {
   "cell_type": "code",
   "execution_count": 11,
   "metadata": {
    "collapsed": false
   },
   "outputs": [
    {
     "name": "stdout",
     "output_type": "stream",
     "text": [
      "Confusion matrix, without normalization\n",
      "[[ 2  7  3  1  0]\n",
      " [ 1 11  4  4  0]\n",
      " [ 3  3 11  6  2]\n",
      " [ 1  3  7  3  6]\n",
      " [ 0  3  3  2 12]]\n"
     ]
    },
    {
     "data": {
      "image/png": "[encoded data removed]",
      "text/plain": [
       "<matplotlib.figure.Figure at 0x1f41489d908>"
      ]
     },
     "metadata": {},
     "output_type": "display_data"
    }
   ],
   "source": [
    " acc = mt.accuracy_score(y_test,y_hat)\n",
    "            #         lr_clf_accuracies.append(acc)\n",
    "            #         cost_accuracies.append([acc])\n",
    "\n",
    "conf = mt.confusion_matrix(y_test,y_hat)\n",
    "plot_confusion_matrix(conf, classes=[0, 1, 2, 3, 4])"
   ]
  },
  {
   "cell_type": "code",
   "execution_count": 13,
   "metadata": {
    "collapsed": false
   },
   "outputs": [
    {
     "name": "stdout",
     "output_type": "stream",
     "text": [
      "Confusion matrix, without normalization\n",
      "[[ 3  7  0  2  1]\n",
      " [ 2 11  3  4  0]\n",
      " [ 5  2  5  8  5]\n",
      " [ 1  3  3  7  6]\n",
      " [ 0  1  3  3 13]]\n"
     ]
    },
    {
     "data": {
      "image/png": "[encoded data removed]",
      "text/plain": [
       "<matplotlib.figure.Figure at 0x1f41489d1d0>"
      ]
     },
     "metadata": {},
     "output_type": "display_data"
    }
   ],
   "source": [
    "clf.fit(X_train, y_train)\n",
    "y_hat = clf.predict(X_test)\n",
    "plot_confusion_matrix(mt.confusion_matrix(y_test, y_hat), classes=[0, 1, 2, 3, 4])"
   ]
  },
  {
   "cell_type": "code",
   "execution_count": 14,
   "metadata": {
    "collapsed": false
   },
   "outputs": [],
   "source": [
    "score = get_confusion_costTot(conf, cost_matrix)"
   ]
  },
  {
   "cell_type": "code",
   "execution_count": 15,
   "metadata": {
    "collapsed": false
   },
   "outputs": [
    {
     "data": {
      "text/plain": [
       "915"
      ]
     },
     "execution_count": 15,
     "metadata": {},
     "output_type": "execute_result"
    }
   ],
   "source": [
    "score"
   ]
  },
  {
   "cell_type": "code",
   "execution_count": 16,
   "metadata": {
    "collapsed": false
   },
   "outputs": [
    {
     "ename": "NameError",
     "evalue": "name 'sklearn_version' is not defined",
     "output_type": "error",
     "traceback": [
      "\u001b[0;31m---------------------------------------------------------------------------\u001b[0m",
      "\u001b[0;31mNameError\u001b[0m                                 Traceback (most recent call last)",
      "\u001b[0;32m<ipython-input-16-07cc448f2e9b>\u001b[0m in \u001b[0;36m<module>\u001b[0;34m()\u001b[0m\n\u001b[1;32m      5\u001b[0m \u001b[0mK\u001b[0m \u001b[1;33m=\u001b[0m \u001b[1;36m4\u001b[0m\u001b[1;33m\u001b[0m\u001b[0m\n\u001b[1;32m      6\u001b[0m \u001b[1;33m\u001b[0m\u001b[0m\n\u001b[0;32m----> 7\u001b[0;31m \u001b[1;32mif\u001b[0m \u001b[0msklearn_version\u001b[0m \u001b[1;33m<\u001b[0m \u001b[1;34m'0.18'\u001b[0m\u001b[1;33m:\u001b[0m\u001b[1;33m\u001b[0m\u001b[0m\n\u001b[0m\u001b[1;32m      8\u001b[0m     \u001b[1;32mfrom\u001b[0m \u001b[0msklearn\u001b[0m\u001b[1;33m.\u001b[0m\u001b[0mcross_validation\u001b[0m \u001b[1;32mimport\u001b[0m \u001b[0mStratifiedKFold\u001b[0m\u001b[1;33m\u001b[0m\u001b[0m\n\u001b[1;32m      9\u001b[0m     kfold = StratifiedKFold(y=y_train, \n",
      "\u001b[0;31mNameError\u001b[0m: name 'sklearn_version' is not defined"
     ]
    }
   ],
   "source": [
    "# Great! Its seems we are also maxing out the F1 score, lets go with C==1e-3\n",
    "from sklearn.metrics import roc_curve, auc\n",
    "from scipy import interp\n",
    "\n",
    "K = 4\n",
    "\n",
    "if sklearn_version < '0.18':\n",
    "    from sklearn.cross_validation import StratifiedKFold\n",
    "    kfold = StratifiedKFold(y=y_train, \n",
    "                            n_folds=K,\n",
    "                            random_state=1)\n",
    "else:\n",
    "    from sklearn.model_selection import StratifiedKFold\n",
    "    kfold = StratifiedKFold(n_splits=K,\n",
    "                            random_state=1).split(X_train, y_train)\n",
    "\n",
    "\n",
    "mean_tpr = 0.0\n",
    "mean_fpr = np.linspace(0, 1, 100)\n",
    "all_tpr = []\n",
    "\n",
    "for i, (train, test) in enumerate(kfold):\n",
    "    probas = pipe_lr.fit(X_train[train],\n",
    "                         y_train[train]).predict_proba(X_train[test])\n",
    "\n",
    "    perclass_mean_tpr = 0.0\n",
    "    roc_auc = 0\n",
    "    classes = np.unique(y_train[train])\n",
    "    # get the mean fpr and tpr, per class\n",
    "    for j in classes:\n",
    "        fpr, tpr, thresholds = roc_curve(y_train[test],\n",
    "                                         probas[:, j],\n",
    "                                         pos_label=j)\n",
    "        perclass_mean_tpr += interp(mean_fpr, fpr, tpr)\n",
    "        perclass_mean_tpr[0] = 0.0\n",
    "        roc_auc += auc(fpr, tpr)\n",
    "        \n",
    "    perclass_mean_tpr /= len(classes)\n",
    "    roc_auc /= len(classes)\n",
    "    mean_tpr += perclass_mean_tpr\n",
    "    plt.plot(mean_fpr,perclass_mean_tpr,'--',lw=1,label='Mean Class ROC fold %d (area = %0.2f)'\n",
    "                   % (i+1, roc_auc))\n",
    "    \n",
    "mean_tpr /= K\n",
    "mean_auc = auc(mean_fpr, mean_tpr)\n",
    "plt.plot(mean_fpr,perclass_mean_tpr,'k-',lw=2,label='Total Mean ROC (area = %0.2f)'\n",
    "                   % (mean_auc))\n",
    "plt.legend(loc='best')\n",
    "plt.grid()"
   ]
  }
 ],
 "metadata": {
  "kernelspec": {
   "display_name": "Python 3",
   "language": "python",
   "name": "python3"
  },
  "language_info": {
   "codemirror_mode": {
    "name": "ipython",
    "version": 3
   },
   "file_extension": ".py",
   "mimetype": "text/x-python",
   "name": "python",
   "nbconvert_exporter": "python",
   "pygments_lexer": "ipython3",
   "version": "3.6.0"
  }
 },
 "nbformat": 4,
 "nbformat_minor": 2
}
