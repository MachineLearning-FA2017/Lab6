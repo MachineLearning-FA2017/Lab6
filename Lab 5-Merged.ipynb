{
 "cells": [
  {
   "cell_type": "markdown",
   "metadata": {},
   "source": [
    "# Lab Assignment Five: Evaluation and Multi-Layer Perceptron\n",
    "## Rupal Sanghavi, Omar Roa"
   ]
  },
  {
   "cell_type": "markdown",
   "metadata": {},
   "source": [
    "# Business Case"
   ]
  },
  {
   "cell_type": "markdown",
   "metadata": {},
   "source": [
    "This dataset represents the responses from students and their friends(ages 15-30, henceforth stated as \"young people\") of a Statistics class from the Faculty of Social and Economic Sciences at The Comenius University in Bratislava, Slovakia. Their survey was a mix of various topics.\n",
    "\n",
    "* Music preferences (19 items)\n",
    "* Movie preferences (12 items)\n",
    "* Hobbies & interests (32 items)\n",
    "* Phobias (10 items)\n",
    "* Health habits (3 items)\n",
    "* Personality traits, views on life, & opinions (57 items)\n",
    "* Spending habits (7 items)\n",
    "* Demographics (10 items)\n",
    "\n",
    "The dataset can be found here. https://www.kaggle.com/miroslavsabo/young-people-survey\n",
    "\n",
    "Our target is to predict how likely a young person would have an interest in PC Software and Hardware. According to Time Magazine (http://time.com/4433964/teens-social-media-advertising/), \"YouTube has become so saturated with popular vloggers that marketers are now turning to so-called \"micro-influencers\" with smaller but more devoted followings, while agencies are shifting their ad dollars from television to YouTube.\"\n",
    "\n",
    "What is a \"micro-influencer\"? \"A micro-influencer is usually Instafamous or a Youtube sensation with a relatively high social following who they have a great impact on.\" (https://www.bcsagency.com/news/step-aside-bloggers-its-time-for-micro-influencers-to-take-the-stage) According to Digiday (http://digiday.com/marketing/micro-influencers/), if a content creator with a large audience promotes a product, there is a chance that only a small subset of their audience is interested. A \"micro-influencer\" would likely have an audience that we mostly interested in a product placement by their trusted \"micro-influencer\".\n",
    "\n",
    "PC Software and Hardware is the classifier that we chose for this project, but there are various other interests in our dataset (Socializing, Dancing, Art) that could be predicted. The point is to gauge interest in a particular topic, hire a \"micro-influencer\" to generate content for that topic, and include product placement."
   ]
  },
  {
   "cell_type": "code",
   "execution_count": 1,
   "metadata": {
    "collapsed": false
   },
   "outputs": [],
   "source": [
    "import pandas as pd\n",
    "import numpy as np\n",
    "import matplotlib.pyplot as plt\n",
    "import warnings\n",
    "warnings.simplefilter('ignore', DeprecationWarning)\n",
    "%matplotlib inline \n",
    "%load_ext memory_profiler\n",
    "from sklearn.metrics import make_scorer\n",
    "from scipy.special import expit\n",
    "import time\n",
    "import math\n",
    "from memory_profiler import memory_usage\n",
    "from sklearn import metrics as mt\n",
    "\n",
    "\n",
    "from sklearn.decomposition import PCA\n",
    "from sklearn.pipeline import Pipeline\n",
    "from sklearn.model_selection import GridSearchCV\n",
    "\n",
    "target_classifier = 'PC'\n",
    "df = pd.read_csv('responses.csv', sep=\",\")"
   ]
  },
  {
   "cell_type": "markdown",
   "metadata": {},
   "source": [
    "# Preparation"
   ]
  },
  {
   "cell_type": "code",
   "execution_count": 2,
   "metadata": {
    "collapsed": true
   },
   "outputs": [],
   "source": [
    "# remove rows whose target classfier value is NaN\n",
    "df_cleaned_classifier = df[np.isfinite(df[target_classifier])]\n",
    "# change NaN number values to the mean\n",
    "df_imputed = df_cleaned_classifier.fillna(df.mean())\n",
    "# get categorical features\n",
    "object_features = list(df_cleaned_classifier.select_dtypes(include=['object']).columns)\n",
    "# one hot encode categorical features\n",
    "one_hot_df = pd.concat([pd.get_dummies(df_imputed[col],prefix=col) for col in object_features], axis=1)\n",
    "# drop object features from imputed dataframe\n",
    "df_imputed_dropped = df_imputed.drop(object_features, 1)\n",
    "frames = [df_imputed_dropped, one_hot_df]\n",
    "# concatenate both frames by columns\n",
    "df_fixed = pd.concat(frames, axis=1)"
   ]
  },
  {
   "cell_type": "code",
   "execution_count": 3,
   "metadata": {
    "collapsed": false
   },
   "outputs": [
    {
     "data": {
      "text/plain": [
       "20"
      ]
     },
     "execution_count": 3,
     "metadata": {},
     "output_type": "execute_result"
    }
   ],
   "source": [
    "df_cleaned_classifier.isnull().sum().max()"
   ]
  },
  {
   "cell_type": "code",
   "execution_count": 4,
   "metadata": {
    "collapsed": false
   },
   "outputs": [
    {
     "data": {
      "text/plain": [
       "(1004, 173)"
      ]
     },
     "execution_count": 4,
     "metadata": {},
     "output_type": "execute_result"
    }
   ],
   "source": [
    "df_fixed.shape"
   ]
  },
  {
   "cell_type": "markdown",
   "metadata": {},
   "source": [
    "Our dataset (1010 rows and 150 columns) was mostly ordinal data as numbers (preferences ranked 1-5) . We also had some ordinal data as strings. \n",
    "\n",
    "e.g.\n",
    "How much time do you spend online?: No time at all - Less than an hour a day - Few hours a day - Most of the day\n",
    "\n",
    "We first removed any rows which contained NaN values for our target classifer, Shopping centres. Afterwards we imputed mean values for any NaN values in other features. We decided to impute due to the fact that there were not many NaN values in our features compared to the size of our data set. (At most was 20 for a feature, as shown above). We then one-hot encoded any string object, which created extra features.\n",
    "\n",
    "We are left with numerical values for our features and a size of 1007 x 172"
   ]
  },
  {
   "cell_type": "markdown",
   "metadata": {},
   "source": [
    "# Evaluation"
   ]
  },
  {
   "cell_type": "markdown",
   "metadata": {},
   "source": [
    "## Metrics To Evaluate Algorithm's Generalization Performance"
   ]
  },
  {
   "cell_type": "code",
   "execution_count": 5,
   "metadata": {
    "collapsed": false
   },
   "outputs": [
    {
     "data": {
      "text/plain": [
       "make_scorer(get_confusion_costTot, greater_is_better=False)"
      ]
     },
     "execution_count": 5,
     "metadata": {},
     "output_type": "execute_result"
    }
   ],
   "source": [
    "# Research on Cost Matrix\n",
    "# http://www.ibm.com/support/knowledgecenter/SSEPGG_11.1.0/com.ibm.im.model.doc/c_cost_matrix.html\n",
    "\n",
    "cost_matrix = np.matrix([[0,1,2,3,4],\n",
    "[1,0,1,2,3],\n",
    "[3,1,0,1,2],\n",
    "[5,3,1,0,1],\n",
    "[7,5,2,1,0]])\n",
    "\n",
    "def get_confusion_costTot(confusion_matrix, cost_matrix):\n",
    "    score = np.sum(confusion_matrix*cost_matrix)\n",
    "    return score\n",
    "\n",
    "confusion_scorer = make_scorer(get_confusion_costTot, greater_is_better=False)\n",
    "confusion_scorer"
   ]
  },
  {
   "cell_type": "markdown",
   "metadata": {},
   "source": [
    "## Divide Data into Training and Testing"
   ]
  },
  {
   "cell_type": "code",
   "execution_count": 6,
   "metadata": {
    "collapsed": false
   },
   "outputs": [
    {
     "name": "stdout",
     "output_type": "stream",
     "text": [
      "StratifiedKFold(n_splits=10, random_state=None, shuffle=True)\n"
     ]
    }
   ],
   "source": [
    "from sklearn.model_selection import StratifiedKFold\n",
    "\n",
    "# we want to predict the X and y data as follows:\n",
    "if target_classifier in df_fixed:\n",
    "    y = df_fixed[target_classifier].values # get the label we want\n",
    "    del df_fixed[target_classifier] # get rid of the class label\n",
    "    X = df_fixed.values # use everything else to predict!\n",
    "\n",
    "X = X/5\n",
    "num_folds = 10\n",
    "\n",
    "cv_object = StratifiedKFold(n_splits= num_folds, random_state=None, shuffle=True)\n",
    "cv_object.split(X,y)\n",
    "\n",
    "print(cv_object)"
   ]
  },
  {
   "cell_type": "markdown",
   "metadata": {},
   "source": [
    "We are using Stratified K Fold as our cross-validation object. Scikit's page states \"each set contains approximately the same percentage of samples of each target class as the complete set.\"(http://scikit-learn.org/stable/modules/cross_validation.html#cross-validation) This is important as we want to represent the dataset as accurately as possible. Kfolds also includes all our data over the course of the folds, so we know that all our data is being used at some point.\n",
    "\n",
    "We did not split our data into validation/train/test sets due to the fact that our data sample size is small (just over 1000 samples). We kept our data set split into training and test. "
   ]
  },
  {
   "cell_type": "markdown",
   "metadata": {},
   "source": [
    "# Modeling"
   ]
  },
  {
   "cell_type": "markdown",
   "metadata": {},
   "source": [
    "## Custom Implementation of Multi-Layer Perceptron"
   ]
  },
  {
   "cell_type": "code",
   "execution_count": 7,
   "metadata": {
    "collapsed": true
   },
   "outputs": [],
   "source": [
    "# Example adapted from https://github.com/rasbt/python-machine-learning-book/blob/master/code/ch12/ch12.ipynb\n",
    "# Original Author: Sebastian Raschka\n",
    "# This is the optional book we use in the course, excellent intuitions and straightforward programming examples\n",
    "# please note, however, that this code has been manipulated to reflect our assumptions and notation.\n",
    "import numpy as np\n",
    "from scipy.special import expit\n",
    "import pandas as pd\n",
    "import sys\n",
    "\n",
    "# start with a simple base classifier, which can't be fit or predicted\n",
    "# it only has internal classes to be used by classes that will subclass it\n",
    "class TwoLayerPerceptronBase(object):\n",
    "    def __init__(self, n_hidden=30,\n",
    "                 C=0.0, epochs=500, eta=0.001, random_state=None, nonlinearity = \"sigmoid\"):\n",
    "        np.random.seed(random_state)\n",
    "        self.n_hidden = n_hidden\n",
    "        self.l2_C = C\n",
    "        self.epochs = epochs\n",
    "        self.eta = eta\n",
    "        self.nonlinearity = nonlinearity\n",
    "        self.params = {}\n",
    "        \n",
    "    @staticmethod\n",
    "    def _encode_labels(y):\n",
    "        \"\"\"Encode labels into one-hot representation\"\"\"\n",
    "        onehot = pd.get_dummies(y).values.T\n",
    "            \n",
    "        return onehot\n",
    "\n",
    "    def _initialize_weights(self):\n",
    "        \"\"\"Initialize weights with small random numbers.\"\"\"\n",
    "        W1_num_elems = (self.n_features_ + 1)*self.n_hidden\n",
    "        W1 = np.random.uniform(-1.0, 1.0,size=W1_num_elems)\n",
    "        W1 = W1.reshape(self.n_hidden, self.n_features_ + 1) # reshape to be W\n",
    "        \n",
    "        W2_num_elems = (self.n_hidden + 1)*self.n_output_\n",
    "        W2 = np.random.uniform(-1.0, 1.0, size=W2_num_elems)\n",
    "        W2 = W2.reshape(self.n_output_, self.n_hidden + 1)\n",
    "        return W1, W2\n",
    "    \n",
    "    @staticmethod\n",
    "    def _sigmoid(z):\n",
    "        \"\"\"Use scipy.special.expit to avoid overflow\"\"\"\n",
    "        # 1.0 / (1.0 + np.exp(-z))\n",
    "        return expit(z)\n",
    "    \n",
    "    @staticmethod\n",
    "    def _add_bias_unit(X, how='column'):\n",
    "        \"\"\"Add bias unit (column or row of 1s) to array at index 0\"\"\"\n",
    "        if how == 'column':\n",
    "            ones = np.ones((X.shape[0], 1))\n",
    "            X_new = np.hstack((ones, X))\n",
    "        elif how == 'row':\n",
    "            ones = np.ones((1, X.shape[1]))\n",
    "            X_new = np.vstack((ones, X))\n",
    "        return X_new\n",
    "    \n",
    "    @staticmethod\n",
    "    def _L2_reg(lambda_, W1, W2):\n",
    "        \"\"\"Compute L2-regularization cost\"\"\"\n",
    "        # only compute for non-bias terms\n",
    "        return (lambda_/2.0) * np.sqrt(np.mean(W1[:, 1:] ** 2) + np.mean(W2[:, 1:] ** 2))\n",
    "    \n",
    "    def _cost(self,A3,Y_enc,W1,W2):\n",
    "        '''Get the objective function value'''\n",
    "        cost = np.mean((Y_enc-A3)**2)\n",
    "        L2_term = self._L2_reg(self.l2_C, W1, W2)\n",
    "        return cost + L2_term\n",
    "    \n",
    "    def _feedforward(self, X, W1, W2):\n",
    "        \"\"\"Compute feedforward step\n",
    "        \"\"\"\n",
    "        A1 = self._add_bias_unit(X, how='column')\n",
    "        Z1 = W1 @ A1.T\n",
    "        if(self.nonlinearity == \"sigmoid\"):\n",
    "            A2 = self._sigmoid(Z1)\n",
    "            A2 = self._add_bias_unit(A2, how='row')\n",
    "            Z2 = W2 @ A2\n",
    "            A3 = self._sigmoid(Z2)\n",
    "        else:\n",
    "            A2 = Z1\n",
    "            A2 = self._add_bias_unit(A2, how='row')\n",
    "            Z2 = W2 @ A2\n",
    "            A3 = Z2\n",
    "        return A1, Z1, A2, Z2, A3\n",
    "    \n",
    "    def _get_gradient(self, A1, A2, A3, Z1, Z2, Y_enc, W1, W2):\n",
    "        \"\"\" Compute gradient step using backpropagation.\n",
    "        \"\"\"\n",
    "        # vectorized backpropagation\n",
    "        if(self.nonlinearity == \"sigmoid\"):\n",
    "            sigma3 = -2*(Y_enc-A3)*A3*(1-A3)\n",
    "            sigma2 = (W2.T @ sigma3)*A2*(1-A2)\n",
    "        else:\n",
    "            sigma3 = -2*(Y_enc-A3)\n",
    "            sigma2 = (W2.T @ sigma3)\n",
    "            \n",
    "        grad1 = sigma2[1:,:] @ A1\n",
    "        grad2 = sigma3 @ A2.T\n",
    "        \n",
    "        # regularize weights that are not bias terms\n",
    "        grad1[:, 1:] += W1[:, 1:] * self.l2_C\n",
    "        grad2[:, 1:] += W2[:, 1:] * self.l2_C\n",
    "\n",
    "        return grad1, grad2\n",
    "    \n",
    "    def predict(self, X):\n",
    "        \"\"\"Predict class labels\"\"\"\n",
    "        _, _, _, _, A3 = self._feedforward(X, self.W1, self.W2)\n",
    "        y_pred = np.argmax(A3, axis=0)\n",
    "        return y_pred\n",
    "    def get_params(self,deep=False):\n",
    "        return dict(n_hidden=self.n_hidden, C=self.l2_C, nonlinearity=self.nonlinearity)\n",
    "\n",
    "    def set_params(self,**kwds):\n",
    "        print(kwds)\n",
    "        self.n_hidden = kwds['n_hidden']\n",
    "        self.C = kwds['C']\n",
    "        self.nonlinearity = kwds['nonlinearity']"
   ]
  },
  {
   "cell_type": "code",
   "execution_count": 8,
   "metadata": {
    "collapsed": true
   },
   "outputs": [],
   "source": [
    "from sklearn.metrics import accuracy_score\n",
    "# just start with the vectorized version and minibatch\n",
    "class TLPMiniBatch(TwoLayerPerceptronBase):\n",
    "    def __init__(self, alpha=0.0, decrease_const=0.0, shuffle=True, \n",
    "                 minibatches=1, **kwds):        \n",
    "        # need to add to the original initializer \n",
    "        self.alpha = alpha\n",
    "        self.decrease_const = decrease_const\n",
    "        self.shuffle = shuffle\n",
    "        self.minibatches = minibatches\n",
    "        # but keep other keywords\n",
    "        super().__init__(**kwds)\n",
    "        \n",
    "    \n",
    "    def fit(self, X, y, print_progress=False):\n",
    "        \"\"\" Learn weights from training data. With mini-batch\"\"\"\n",
    "        X_data, y_data = X.copy(), y.copy()\n",
    "        Y_enc = self._encode_labels(y)\n",
    "        \n",
    "        # init weights and setup matrices\n",
    "        self.n_features_ = X_data.shape[1]\n",
    "        self.n_output_ = Y_enc.shape[0]\n",
    "        self.W1, self.W2 = self._initialize_weights()\n",
    "\n",
    "        delta_W1_prev = np.zeros(self.W1.shape)\n",
    "        delta_W2_prev = np.zeros(self.W2.shape)\n",
    "\n",
    "        self.cost_ = []\n",
    "        self.score_ = []\n",
    "        for i in range(self.epochs):\n",
    "\n",
    "            # adaptive learning rate\n",
    "            self.eta /= (1 + self.decrease_const*i)\n",
    "\n",
    "            if print_progress>0 and (i+1)%print_progress==0:\n",
    "                sys.stderr.write('\\rEpoch: %d/%d' % (i+1, self.epochs))\n",
    "                sys.stderr.flush()\n",
    "\n",
    "            if self.shuffle:\n",
    "                idx_shuffle = np.random.permutation(y_data.shape[0])\n",
    "                X_data, Y_enc, y_data = X_data[idx_shuffle], Y_enc[:, idx_shuffle], y_data[idx_shuffle]\n",
    "\n",
    "            mini = np.array_split(range(y_data.shape[0]), self.minibatches)\n",
    "            mini_cost = []\n",
    "            for idx in mini:\n",
    "\n",
    "                # feedforward\n",
    "                A1, Z1, A2, Z2, A3 = self._feedforward(X_data[idx],\n",
    "                                                       self.W1,\n",
    "                                                       self.W2)\n",
    "                \n",
    "                cost = self._cost(A3,Y_enc[:, idx],self.W1,self.W2)\n",
    "                mini_cost.append(cost) # this appends cost of mini-batch only\n",
    "\n",
    "                # compute gradient via backpropagation\n",
    "                grad1, grad2 = self._get_gradient(A1=A1, A2=A2, A3=A3, Z1=Z1, Z2=Z2, \n",
    "                                                  Y_enc=Y_enc[:, idx],\n",
    "                                                  W1=self.W1,W2=self.W2)\n",
    "\n",
    "                delta_W1, delta_W2 = self.eta * grad1, self.eta * grad2\n",
    "                self.W1 -= (delta_W1 + (self.alpha * delta_W1_prev))\n",
    "                self.W2 -= (delta_W2 + (self.alpha * delta_W2_prev))\n",
    "                delta_W1_prev, delta_W2_prev = delta_W1, delta_W2\n",
    "\n",
    "            self.cost_.append(mini_cost)\n",
    "            self.score_.append(accuracy_score(y_data,self.predict(X_data)))\n",
    "            \n",
    "        return self\n",
    "    "
   ]
  },
  {
   "cell_type": "code",
   "execution_count": 9,
   "metadata": {
    "collapsed": true
   },
   "outputs": [],
   "source": [
    "# to implement the new style of objective function, \n",
    "# we just need to update the final layer calculation of the gradient\n",
    "class TLPMiniBatchCrossEntropy(TLPMiniBatch):\n",
    "    def _cost(self,A3,Y_enc,W1,W2):\n",
    "        '''Get the objective function value'''\n",
    "        cost = -np.mean(np.nan_to_num((Y_enc*np.log(A3)+(1-Y_enc)*np.log(1-A3))))\n",
    "        L2_term = self._L2_reg(self.l2_C, W1, W2)\n",
    "        return cost + L2_term\n",
    "    \n",
    "    def _get_gradient(self, A1, A2, A3, Z1, Z2, Y_enc, W1, W2):\n",
    "        \"\"\" Compute gradient step using backpropagation.\n",
    "        \"\"\"\n",
    "        # vectorized backpropagation\n",
    "        sigma3 = (A3-Y_enc) # <- this is only line that changed\n",
    "        if(self.nonlinearity == \"sigmoid\"):\n",
    "            sigma2 = (W2.T @ sigma3)*A2*(1-A2)\n",
    "            grad1 = sigma2[1:,:] @ A1\n",
    "            grad2 = sigma3 @ A2.T\n",
    "        else:\n",
    "            sigma2 = (W2.T @ sigma3)\n",
    "            grad1 = sigma2[1:,:] @ A1\n",
    "            grad2 = sigma3\n",
    "        #grad1 = sigma2[1:,:] @ A1\n",
    "        #grad2 = sigma3 @ A2.T\n",
    "        grad2 = sigma3 @ A2.T\n",
    "        # regularize weights that are not bias terms\n",
    "        grad1[:, 1:] += W1[:, 1:] * self.l2_C\n",
    "        grad2[:, 1:] += W2[:, 1:] * self.l2_C\n",
    "\n",
    "        return grad1, grad2\n",
    "        \n",
    "    "
   ]
  },
  {
   "cell_type": "code",
   "execution_count": 10,
   "metadata": {
    "collapsed": true
   },
   "outputs": [],
   "source": [
    "class TLPDropoutQuad(TLPMiniBatch):\n",
    "    def __init__(self, dropout=True, **kwds):        \n",
    "        # need to add to the original initializer \n",
    "        self.dropout = dropout\n",
    "\n",
    "        # but keep other keywords\n",
    "        super().__init__(**kwds)\n",
    "        \n",
    "    def fit(self, X, y, print_progress=0, XY_test=None):\n",
    "        \"\"\" Learn weights from training data. With mini-batch\"\"\"\n",
    "        X_data, y_data = X.copy(), y.copy()\n",
    "        Y_enc = self._encode_labels(y)\n",
    "        \n",
    "        # init weights and setup matrices\n",
    "        self.n_features_ = X_data.shape[1]\n",
    "        self.n_output_ = Y_enc.shape[0]\n",
    "        self.W1, self.W2 = self._initialize_weights()\n",
    "\n",
    "        delta_W1_prev = np.zeros(self.W1.shape)\n",
    "        delta_W2_prev = np.zeros(self.W2.shape)\n",
    "\n",
    "        self.cost_ = []\n",
    "        self.score_ = []\n",
    "        if XY_test is not None:\n",
    "            X_test = XY_test[0].copy()\n",
    "            y_test = XY_test[1].copy()\n",
    "            self.val_score_ = []\n",
    "        for i in range(self.epochs):\n",
    "\n",
    "            # adaptive learning rate\n",
    "            self.eta /= (1 + self.decrease_const*i)\n",
    "\n",
    "            if print_progress>0 and (i+1)%print_progress==0:\n",
    "                sys.stderr.write('\\rEpoch: %d/%d' % (i+1, self.epochs))\n",
    "                sys.stderr.flush()\n",
    "\n",
    "            if self.shuffle:\n",
    "                idx_shuffle = np.random.permutation(y_data.shape[0])\n",
    "                X_data, Y_enc, y_data = X_data[idx_shuffle], Y_enc[:, idx_shuffle], y_data[idx_shuffle]\n",
    "\n",
    "            mini = np.array_split(range(y_data.shape[0]), self.minibatches)\n",
    "            mini_cost = []\n",
    "            \n",
    "            # adding dropout neurons\n",
    "            W1 = self.W1.copy()\n",
    "            W2 = self.W2.copy()\n",
    "            \n",
    "            if self.dropout:\n",
    "                # be sure to select the other half of the neurons each epoch\n",
    "                if True :#i%2 == 0:\n",
    "                    # randomly select half of the neurons\n",
    "                    idx_dropout = np.random.permutation(W1.shape[0])\n",
    "                    idx_other_half = idx_dropout[:int(W1.shape[0]/2)]\n",
    "                    idx_dropout = idx_dropout[int(W1.shape[0]/2):] #drop half\n",
    "                else:\n",
    "                    # select the other half\n",
    "                    idx_dropout = idx_other_half\n",
    "                    \n",
    "                idx_dropout = np.sort(idx_dropout)\n",
    "                idx_W2_withbias = np.hstack(([0],(idx_dropout+1)))\n",
    "                W1 = W1[idx_dropout,:]# get rid of rows\n",
    "                W2 = W2[:,idx_W2_withbias]# get rid of extra columns\n",
    "                delta_W1_prev_dropout = delta_W1_prev[idx_dropout,:]\n",
    "                delta_W2_prev_dropout = delta_W2_prev[:,idx_W2_withbias]\n",
    "            else:\n",
    "                delta_W1_prev_dropout = delta_W1_prev\n",
    "                delta_W2_prev_dropout = delta_W2_prev\n",
    "                \n",
    "            \n",
    "            for idx in mini:\n",
    "\n",
    "                # feedforward\n",
    "                A1, Z1, A2, Z2, A3 = self._feedforward(X_data[idx],\n",
    "                                                       W1,\n",
    "                                                       W2)\n",
    "                \n",
    "                cost = self._cost(A3,Y_enc[:, idx],W1,W2)\n",
    "                mini_cost.append(cost) # this appends cost of mini-batch only\n",
    "\n",
    "                # compute gradient via backpropagation\n",
    "                grad1, grad2 = self._get_gradient(A1=A1, A2=A2, A3=A3, Z1=Z1, Z2=Z2,\n",
    "                                                  Y_enc=Y_enc[:, idx],\n",
    "                                                  W1=W1,W2=W2)\n",
    "\n",
    "                delta_W1, delta_W2 = self.eta * grad1, self.eta * grad2\n",
    "                W1 -= (delta_W1 + (self.alpha * delta_W1_prev_dropout))\n",
    "                W2 -= (delta_W2 + (self.alpha * delta_W2_prev_dropout))\n",
    "                delta_W1_prev_dropout, delta_W2_prev_dropout = delta_W1, delta_W2\n",
    "\n",
    "            if self.dropout:\n",
    "                # now append the learned weights back into the original matrices\n",
    "                self.W1[idx_dropout,:] = W1\n",
    "                self.W2[:,idx_W2_withbias] = W2\n",
    "                delta_W1_prev[idx_dropout,:] = delta_W1_prev_dropout\n",
    "                delta_W2_prev[:,idx_W2_withbias] = delta_W2_prev_dropout\n",
    "            else:\n",
    "                # don't eliminate any neurons\n",
    "                self.W1 = W1\n",
    "                self.W2 = W2\n",
    "                delta_W1_prev = delta_W1_prev_dropout\n",
    "                delta_W2_prev = delta_W2_prev_dropout\n",
    "                \n",
    "            self.score_.append(accuracy_score(y_data,self.predict(X_data)))\n",
    "            self.cost_.append(mini_cost) # only uses dropped samples, so more noise\n",
    "            if XY_test is not None:\n",
    "                self.val_score_.append(accuracy_score(y_test,self.predict(X_test)))\n",
    "        return self"
   ]
  },
  {
   "cell_type": "code",
   "execution_count": 11,
   "metadata": {
    "collapsed": true
   },
   "outputs": [],
   "source": [
    "\n",
    "class TLPDropout(TLPMiniBatchCrossEntropy):\n",
    "    def __init__(self, dropout=True, **kwds):        \n",
    "        # need to add to the original initializer \n",
    "        self.dropout = dropout\n",
    "\n",
    "        # but keep other keywords\n",
    "        super().__init__(**kwds)\n",
    "        \n",
    "    def fit(self, X, y, print_progress=0, XY_test=None):\n",
    "        \"\"\" Learn weights from training data. With mini-batch\"\"\"\n",
    "        X_data, y_data = X.copy(), y.copy()\n",
    "        Y_enc = self._encode_labels(y)\n",
    "        \n",
    "        # init weights and setup matrices\n",
    "        self.n_features_ = X_data.shape[1]\n",
    "        self.n_output_ = Y_enc.shape[0]\n",
    "        self.W1, self.W2 = self._initialize_weights()\n",
    "\n",
    "        delta_W1_prev = np.zeros(self.W1.shape)\n",
    "        delta_W2_prev = np.zeros(self.W2.shape)\n",
    "\n",
    "        self.cost_ = []\n",
    "        self.score_ = []\n",
    "        if XY_test is not None:\n",
    "            X_test = XY_test[0].copy()\n",
    "            y_test = XY_test[1].copy()\n",
    "            self.val_score_ = []\n",
    "        for i in range(self.epochs):\n",
    "\n",
    "            # adaptive learning rate\n",
    "            self.eta /= (1 + self.decrease_const*i)\n",
    "\n",
    "            if print_progress>0 and (i+1)%print_progress==0:\n",
    "                sys.stderr.write('\\rEpoch: %d/%d' % (i+1, self.epochs))\n",
    "                sys.stderr.flush()\n",
    "\n",
    "            if self.shuffle:\n",
    "                idx_shuffle = np.random.permutation(y_data.shape[0])\n",
    "                X_data, Y_enc, y_data = X_data[idx_shuffle], Y_enc[:, idx_shuffle], y_data[idx_shuffle]\n",
    "\n",
    "            mini = np.array_split(range(y_data.shape[0]), self.minibatches)\n",
    "            mini_cost = []\n",
    "            \n",
    "            # adding dropout neurons\n",
    "            W1 = self.W1.copy()\n",
    "            W2 = self.W2.copy()\n",
    "            \n",
    "            if self.dropout:\n",
    "                # be sure to select the other half of the neurons each epoch\n",
    "                if True :#i%2 == 0:\n",
    "                    # randomly select half of the neurons\n",
    "                    idx_dropout = np.random.permutation(W1.shape[0])\n",
    "                    idx_other_half = idx_dropout[:int(W1.shape[0]/2)]\n",
    "                    idx_dropout = idx_dropout[int(W1.shape[0]/2):] #drop half\n",
    "                else:\n",
    "                    # select the other half\n",
    "                    idx_dropout = idx_other_half\n",
    "                    \n",
    "                idx_dropout = np.sort(idx_dropout)\n",
    "                idx_W2_withbias = np.hstack(([0],(idx_dropout+1)))\n",
    "                W1 = W1[idx_dropout,:]# get rid of rows\n",
    "                W2 = W2[:,idx_W2_withbias]# get rid of extra columns\n",
    "                delta_W1_prev_dropout = delta_W1_prev[idx_dropout,:]\n",
    "                delta_W2_prev_dropout = delta_W2_prev[:,idx_W2_withbias]\n",
    "            else:\n",
    "                delta_W1_prev_dropout = delta_W1_prev\n",
    "                delta_W2_prev_dropout = delta_W2_prev\n",
    "                \n",
    "            \n",
    "            for idx in mini:\n",
    "\n",
    "                # feedforward\n",
    "                A1, Z1, A2, Z2, A3 = self._feedforward(X_data[idx],\n",
    "                                                       W1,\n",
    "                                                       W2)\n",
    "                \n",
    "                cost = self._cost(A3,Y_enc[:, idx],W1,W2)\n",
    "                mini_cost.append(cost) # this appends cost of mini-batch only\n",
    "\n",
    "                # compute gradient via backpropagation\n",
    "                grad1, grad2 = self._get_gradient(A1=A1, A2=A2, A3=A3, Z1=Z1, Z2=Z2,\n",
    "                                                  Y_enc=Y_enc[:, idx],\n",
    "                                                  W1=W1,W2=W2)\n",
    "\n",
    "                delta_W1, delta_W2 = self.eta * grad1, self.eta * grad2\n",
    "                W1 -= (delta_W1 + (self.alpha * delta_W1_prev_dropout))\n",
    "                W2 -= (delta_W2 + (self.alpha * delta_W2_prev_dropout))\n",
    "                delta_W1_prev_dropout, delta_W2_prev_dropout = delta_W1, delta_W2\n",
    "\n",
    "            if self.dropout:\n",
    "                # now append the learned weights back into the original matrices\n",
    "                self.W1[idx_dropout,:] = W1\n",
    "                self.W2[:,idx_W2_withbias] = W2\n",
    "                delta_W1_prev[idx_dropout,:] = delta_W1_prev_dropout\n",
    "                delta_W2_prev[:,idx_W2_withbias] = delta_W2_prev_dropout\n",
    "            else:\n",
    "                # don't eliminate any neurons\n",
    "                self.W1 = W1\n",
    "                self.W2 = W2\n",
    "                delta_W1_prev = delta_W1_prev_dropout\n",
    "                delta_W2_prev = delta_W2_prev_dropout\n",
    "                \n",
    "            self.score_.append(accuracy_score(y_data,self.predict(X_data)))\n",
    "            self.cost_.append(mini_cost) # only uses dropped samples, so more noise\n",
    "            if XY_test is not None:\n",
    "                self.val_score_.append(accuracy_score(y_test,self.predict(X_test)))\n",
    "        return self"
   ]
  },
  {
   "cell_type": "code",
   "execution_count": 12,
   "metadata": {
    "collapsed": true
   },
   "outputs": [],
   "source": [
    "class TLPGaussianInitialQuad(TLPMiniBatch):             \n",
    "    def _initialize_weights(self):\n",
    "        \"\"\"Initialize weights with smal l random numbers.\"\"\"\n",
    "        W1 = np.random.randn(self.n_hidden, self.n_features_ + 1)\n",
    "        W1[:,1:] = W1[:,1:]/np.sqrt(self.n_features_+1) # don't saturate the neuron\n",
    "        \n",
    "        W2 = np.random.randn(self.n_output_, self.n_hidden + 1)\n",
    "        W2[:,1:] = W2[:,1:]/np.sqrt(self.n_hidden+1) # don't saturate the neuron\n",
    "        return W1, W2"
   ]
  },
  {
   "cell_type": "code",
   "execution_count": 13,
   "metadata": {
    "collapsed": true
   },
   "outputs": [],
   "source": [
    "class TLPGaussianInitial(TLPMiniBatchCrossEntropy):             \n",
    "    def _initialize_weights(self):\n",
    "        \"\"\"Initialize weights with small random numbers.\"\"\"\n",
    "        W1 = np.random.randn(self.n_hidden, self.n_features_ + 1)\n",
    "        W1[:,1:] = W1[:,1:]/np.sqrt(self.n_features_+1) # don't saturate the neuron\n",
    "        \n",
    "        W2 = np.random.randn(self.n_output_, self.n_hidden + 1)\n",
    "        W2[:,1:] = W2[:,1:]/np.sqrt(self.n_hidden+1) # don't saturate the neuron\n",
    "        return W1, W2"
   ]
  },
  {
   "cell_type": "code",
   "execution_count": 14,
   "metadata": {
    "collapsed": true
   },
   "outputs": [],
   "source": [
    "vals = {'n_hidden':50, \n",
    "         'C':1e-2, 'epochs':75, 'eta':0.001, \n",
    "         'alpha':0.0, 'decrease_const':1e-9, 'minibatches':200,\n",
    "         'shuffle':True,'random_state':1, 'dropout':False}"
   ]
  },
  {
   "cell_type": "code",
   "execution_count": 15,
   "metadata": {
    "collapsed": false
   },
   "outputs": [],
   "source": [
    "class TLPReLu(TLPDropout):\n",
    "    def _initialize_weights(self):\n",
    "        \"\"\"Initialize weights with small random numbers.\"\"\"\n",
    "        # suggested relu/sigmoid bounds\n",
    "        # Glorot, Xavier, Antoine Bordes, and Yoshua Bengio. \n",
    "        #   \"Deep Sparse Rectifier Neural Networks.\"\n",
    "        init_bound = np.sqrt(6. / (self.n_hidden + self.n_features_ + 1))\n",
    "        W1 = np.random.uniform(-init_bound, init_bound,(self.n_hidden, self.n_features_ + 1))\n",
    "\n",
    "        init_bound = np.sqrt(2. / (self.n_output_ + self.n_hidden + 1))\n",
    "        W2 = np.random.uniform(-init_bound, init_bound,(self.n_output_, self.n_hidden + 1))\n",
    "        return W1, W2\n",
    "    \n",
    "    @staticmethod\n",
    "    def _relu(Z):\n",
    "        return np.maximum(0,Z.copy())\n",
    "        \n",
    "    def _feedforward(self, X, W1, W2):\n",
    "        \"\"\"Compute feedforward step\n",
    "        \"\"\"\n",
    "        # A1->W1->ReLu->A2->W2->Sigmoid\n",
    "        A1 = self._add_bias_unit(X, how='column')\n",
    "        Z1 = W1 @ A1.T\n",
    "        A2 = self._relu(Z1)\n",
    "        A2 = self._add_bias_unit(A2, how='row')\n",
    "        Z2 = W2 @ A2\n",
    "        A3 = self._sigmoid(Z2)\n",
    "        return A1, Z1, A2, Z2, A3\n",
    "    \n",
    "    def _get_gradient(self, A1, A2, A3, Z1, Z2, Y_enc, W1, W2):\n",
    "        \"\"\" Compute gradient step using backpropagation.\n",
    "        \"\"\"\n",
    "        # vectorized backpropagation\n",
    "        sigma3 = (A3-Y_enc) \n",
    "        # sigma3[Z2<=0] = 0 # can change to be relu back prop on this layer too!\n",
    "        \n",
    "        sigma2 = (W2.T @ sigma3) \n",
    "        Z1_with_bias = self._add_bias_unit(Z1,how='row')\n",
    "        sigma2[Z1_with_bias<=0] = 0\n",
    "        # relu derivative only zeros out certain values! easy!\n",
    "        \n",
    "        grad1 = sigma2[1:,:] @ A1\n",
    "        grad2 = sigma3 @ A2.T\n",
    "        \n",
    "        # regularize weights that are not bias terms\n",
    "        grad1[:, 1:] += (W1[:, 1:] * self.l2_C)\n",
    "        grad2[:, 1:] += (W2[:, 1:] * self.l2_C)\n",
    "\n",
    "        return grad1, grad2\n",
    "    \n"
   ]
  },
  {
   "cell_type": "code",
   "execution_count": 18,
   "metadata": {
    "collapsed": false
   },
   "outputs": [
    {
     "name": "stderr",
     "output_type": "stream",
     "text": [
      "Epoch: 2/75"
     ]
    },
    {
     "name": "stdout",
     "output_type": "stream",
     "text": [
      "---------------------------------\n",
      "\n",
      "quadratic\n",
      "sigmoid\n"
     ]
    },
    {
     "name": "stderr",
     "output_type": "stream",
     "text": [
      "Epoch: 2/755"
     ]
    },
    {
     "name": "stdout",
     "output_type": "stream",
     "text": [
      "CPU times: user 14.4 s, sys: 344 ms, total: 14.8 s\n",
      "Wall time: 8.66 s\n",
      "confusion matrix\n",
      " [[ 0  9  1  0  4]\n",
      " [ 0 11  5  0  5]\n",
      " [ 0 11  8  0  6]\n",
      " [ 0 10  4  0  7]\n",
      " [ 0  1 10  0 10]]\n",
      "Weighted Confusion Matrix Score:  970\n",
      "---------------------------------\n",
      "\n",
      "quadratic\n",
      "sigmoid\n"
     ]
    },
    {
     "name": "stderr",
     "output_type": "stream",
     "text": [
      "Epoch: 3/755"
     ]
    },
    {
     "name": "stdout",
     "output_type": "stream",
     "text": [
      "CPU times: user 13.8 s, sys: 300 ms, total: 14.1 s\n",
      "Wall time: 7.81 s\n",
      "confusion matrix\n",
      " [[ 0  6  6  0  2]\n",
      " [ 0  7  8  0  6]\n",
      " [ 0  6  9  0 10]\n",
      " [ 0  7  7  0  7]\n",
      " [ 0  4  2  0 15]]\n",
      "Weighted Confusion Matrix Score:  1034\n",
      "---------------------------------\n",
      "\n",
      "quadratic\n",
      "sigmoid\n"
     ]
    },
    {
     "name": "stderr",
     "output_type": "stream",
     "text": [
      "Epoch: 3/755"
     ]
    },
    {
     "name": "stdout",
     "output_type": "stream",
     "text": [
      "CPU times: user 13.1 s, sys: 224 ms, total: 13.3 s\n",
      "Wall time: 6.87 s\n",
      "confusion matrix\n",
      " [[ 0  9  5  0  0]\n",
      " [ 0  6 13  0  2]\n",
      " [ 0  4 17  0  4]\n",
      " [ 0  1 13  0  7]\n",
      " [ 0  2  9  0 10]]\n",
      "Weighted Confusion Matrix Score:  898\n",
      "---------------------------------\n",
      "\n",
      "quadratic\n",
      "sigmoid\n"
     ]
    },
    {
     "name": "stderr",
     "output_type": "stream",
     "text": [
      "Epoch: 2/755"
     ]
    },
    {
     "name": "stdout",
     "output_type": "stream",
     "text": [
      "CPU times: user 14.2 s, sys: 327 ms, total: 14.5 s\n",
      "Wall time: 8.4 s\n",
      "confusion matrix\n",
      " [[ 0  6  8  0  0]\n",
      " [ 0  8 11  0  2]\n",
      " [ 0  6 14  0  5]\n",
      " [ 0  4 11  0  6]\n",
      " [ 0  1 13  0  7]]\n",
      "Weighted Confusion Matrix Score:  874\n",
      "---------------------------------\n",
      "\n",
      "quadratic\n",
      "sigmoid\n"
     ]
    },
    {
     "name": "stderr",
     "output_type": "stream",
     "text": [
      "Epoch: 3/755"
     ]
    },
    {
     "name": "stdout",
     "output_type": "stream",
     "text": [
      "CPU times: user 15.2 s, sys: 441 ms, total: 15.7 s\n",
      "Wall time: 9.88 s\n",
      "confusion matrix\n",
      " [[ 0  2 10  0  2]\n",
      " [ 0  2 17  0  2]\n",
      " [ 0  3 14  0  8]\n",
      " [ 0  4  9  0  8]\n",
      " [ 0  1  7  0 12]]\n",
      "Weighted Confusion Matrix Score:  963\n",
      "---------------------------------\n",
      "\n",
      "quadratic\n",
      "sigmoid\n"
     ]
    },
    {
     "name": "stderr",
     "output_type": "stream",
     "text": [
      "Epoch: 3/755"
     ]
    },
    {
     "name": "stdout",
     "output_type": "stream",
     "text": [
      "CPU times: user 13.4 s, sys: 248 ms, total: 13.7 s\n",
      "Wall time: 7.17 s\n",
      "confusion matrix\n",
      " [[ 0  4  6  1  2]\n",
      " [ 0  9  9  0  3]\n",
      " [ 0  7  9  0  9]\n",
      " [ 0  6  7  0  8]\n",
      " [ 0  1  6  0 13]]\n",
      "Weighted Confusion Matrix Score:  983\n",
      "---------------------------------\n",
      "\n",
      "quadratic\n",
      "sigmoid\n"
     ]
    },
    {
     "name": "stderr",
     "output_type": "stream",
     "text": [
      "Epoch: 3/755"
     ]
    },
    {
     "name": "stdout",
     "output_type": "stream",
     "text": [
      "CPU times: user 13.1 s, sys: 228 ms, total: 13.3 s\n",
      "Wall time: 6.86 s\n",
      "confusion matrix\n",
      " [[ 0 11  2  0  0]\n",
      " [ 0 16  3  0  2]\n",
      " [ 0 13  9  0  3]\n",
      " [ 0  9  6  0  6]\n",
      " [ 0  3 10  0  7]]\n",
      "Weighted Confusion Matrix Score:  844\n",
      "---------------------------------\n",
      "\n",
      "quadratic\n",
      "sigmoid\n"
     ]
    },
    {
     "name": "stderr",
     "output_type": "stream",
     "text": [
      "Epoch: 3/755"
     ]
    },
    {
     "name": "stdout",
     "output_type": "stream",
     "text": [
      "CPU times: user 13 s, sys: 212 ms, total: 13.2 s\n",
      "Wall time: 6.83 s\n",
      "confusion matrix\n",
      " [[ 0  6  6  0  1]\n",
      " [ 0  9  8  0  4]\n",
      " [ 0  5  9  0 11]\n",
      " [ 0  1  6  0 13]\n",
      " [ 0  1  6  0 13]]\n",
      "Weighted Confusion Matrix Score:  1029\n",
      "---------------------------------\n",
      "\n",
      "quadratic\n",
      "sigmoid\n"
     ]
    },
    {
     "name": "stderr",
     "output_type": "stream",
     "text": [
      "Epoch: 3/755"
     ]
    },
    {
     "name": "stdout",
     "output_type": "stream",
     "text": [
      "CPU times: user 13 s, sys: 222 ms, total: 13.2 s\n",
      "Wall time: 6.79 s\n",
      "confusion matrix\n",
      " [[ 0  5  6  0  2]\n",
      " [ 0  5 15  0  0]\n",
      " [ 0  4 17  0  4]\n",
      " [ 0  1 15  0  4]\n",
      " [ 0  1 12  0  7]]\n",
      "Weighted Confusion Matrix Score:  822\n",
      "---------------------------------\n",
      "\n",
      "quadratic\n",
      "sigmoid\n"
     ]
    },
    {
     "name": "stderr",
     "output_type": "stream",
     "text": [
      "Epoch: 1/755/Users/Omar/anaconda/lib/python3.5/site-packages/ipykernel/__main__.py:62: RuntimeWarning: overflow encountered in square\n",
      "Epoch: 3/75"
     ]
    },
    {
     "name": "stdout",
     "output_type": "stream",
     "text": [
      "CPU times: user 13 s, sys: 232 ms, total: 13.3 s\n",
      "Wall time: 6.81 s\n",
      "confusion matrix\n",
      " [[ 0  8  5  0  0]\n",
      " [ 0  7 12  0  1]\n",
      " [ 0  2 14  0  9]\n",
      " [ 0  3  9  0  8]\n",
      " [ 0  4  3  0 13]]\n",
      "Weighted Confusion Matrix Score:  934\n",
      "---------------------------------\n",
      "\n",
      "quadratic\n",
      "linear\n"
     ]
    },
    {
     "name": "stderr",
     "output_type": "stream",
     "text": [
      "Epoch: 1/755/Users/Omar/anaconda/lib/python3.5/site-packages/ipykernel/__main__.py:62: RuntimeWarning: overflow encountered in square\n",
      "Epoch: 3/75"
     ]
    },
    {
     "name": "stdout",
     "output_type": "stream",
     "text": [
      "CPU times: user 12.6 s, sys: 295 ms, total: 12.9 s\n",
      "Wall time: 7.4 s\n",
      "confusion matrix\n",
      " [[14  0  0  0  0]\n",
      " [21  0  0  0  0]\n",
      " [25  0  0  0  0]\n",
      " [21  0  0  0  0]\n",
      " [21  0  0  0  0]]\n",
      "Weighted Confusion Matrix Score:  1020\n",
      "---------------------------------\n",
      "\n",
      "quadratic\n",
      "linear\n"
     ]
    },
    {
     "name": "stderr",
     "output_type": "stream",
     "text": [
      "Epoch: 1/755/Users/Omar/anaconda/lib/python3.5/site-packages/ipykernel/__main__.py:62: RuntimeWarning: overflow encountered in square\n",
      "Epoch: 3/75"
     ]
    },
    {
     "name": "stdout",
     "output_type": "stream",
     "text": [
      "CPU times: user 12.2 s, sys: 212 ms, total: 12.4 s\n",
      "Wall time: 6.38 s\n",
      "confusion matrix\n",
      " [[14  0  0  0  0]\n",
      " [21  0  0  0  0]\n",
      " [25  0  0  0  0]\n",
      " [21  0  0  0  0]\n",
      " [21  0  0  0  0]]\n",
      "Weighted Confusion Matrix Score:  1020\n",
      "---------------------------------\n",
      "\n",
      "quadratic\n",
      "linear\n"
     ]
    },
    {
     "name": "stderr",
     "output_type": "stream",
     "text": [
      "Epoch: 1/755/Users/Omar/anaconda/lib/python3.5/site-packages/ipykernel/__main__.py:62: RuntimeWarning: overflow encountered in square\n",
      "Epoch: 3/75"
     ]
    },
    {
     "name": "stdout",
     "output_type": "stream",
     "text": [
      "CPU times: user 12.1 s, sys: 210 ms, total: 12.3 s\n",
      "Wall time: 6.32 s\n",
      "confusion matrix\n",
      " [[14  0  0  0  0]\n",
      " [21  0  0  0  0]\n",
      " [25  0  0  0  0]\n",
      " [21  0  0  0  0]\n",
      " [21  0  0  0  0]]\n",
      "Weighted Confusion Matrix Score:  1020\n",
      "---------------------------------\n",
      "\n",
      "quadratic\n",
      "linear\n"
     ]
    },
    {
     "name": "stderr",
     "output_type": "stream",
     "text": [
      "Epoch: 1/755/Users/Omar/anaconda/lib/python3.5/site-packages/ipykernel/__main__.py:62: RuntimeWarning: overflow encountered in square\n",
      "Epoch: 3/75"
     ]
    },
    {
     "name": "stdout",
     "output_type": "stream",
     "text": [
      "CPU times: user 12.2 s, sys: 210 ms, total: 12.4 s\n",
      "Wall time: 6.37 s\n",
      "confusion matrix\n",
      " [[14  0  0  0  0]\n",
      " [21  0  0  0  0]\n",
      " [25  0  0  0  0]\n",
      " [21  0  0  0  0]\n",
      " [21  0  0  0  0]]\n",
      "Weighted Confusion Matrix Score:  1020\n",
      "---------------------------------\n",
      "\n",
      "quadratic\n",
      "linear\n"
     ]
    },
    {
     "name": "stderr",
     "output_type": "stream",
     "text": [
      "Epoch: 1/755/Users/Omar/anaconda/lib/python3.5/site-packages/ipykernel/__main__.py:62: RuntimeWarning: overflow encountered in square\n",
      "Epoch: 3/75"
     ]
    },
    {
     "name": "stdout",
     "output_type": "stream",
     "text": [
      "CPU times: user 12.4 s, sys: 230 ms, total: 12.6 s\n",
      "Wall time: 6.68 s\n",
      "confusion matrix\n",
      " [[14  0  0  0  0]\n",
      " [21  0  0  0  0]\n",
      " [25  0  0  0  0]\n",
      " [21  0  0  0  0]\n",
      " [20  0  0  0  0]]\n",
      "Weighted Confusion Matrix Score:  1010\n",
      "---------------------------------\n",
      "\n",
      "quadratic\n",
      "linear\n"
     ]
    },
    {
     "name": "stderr",
     "output_type": "stream",
     "text": [
      "Epoch: 1/755/Users/Omar/anaconda/lib/python3.5/site-packages/ipykernel/__main__.py:62: RuntimeWarning: overflow encountered in square\n",
      "Epoch: 3/75"
     ]
    },
    {
     "name": "stdout",
     "output_type": "stream",
     "text": [
      "CPU times: user 12.2 s, sys: 220 ms, total: 12.4 s\n",
      "Wall time: 6.4 s\n",
      "confusion matrix\n",
      " [[13  0  0  0  0]\n",
      " [21  0  0  0  0]\n",
      " [25  0  0  0  0]\n",
      " [21  0  0  0  0]\n",
      " [20  0  0  0  0]]\n",
      "Weighted Confusion Matrix Score:  1000\n",
      "---------------------------------\n",
      "\n",
      "quadratic\n",
      "linear\n"
     ]
    },
    {
     "name": "stderr",
     "output_type": "stream",
     "text": [
      "Epoch: 1/755/Users/Omar/anaconda/lib/python3.5/site-packages/ipykernel/__main__.py:62: RuntimeWarning: overflow encountered in square\n",
      "Epoch: 3/75"
     ]
    },
    {
     "name": "stdout",
     "output_type": "stream",
     "text": [
      "CPU times: user 12.1 s, sys: 203 ms, total: 12.3 s\n",
      "Wall time: 6.36 s\n",
      "confusion matrix\n",
      " [[13  0  0  0  0]\n",
      " [21  0  0  0  0]\n",
      " [25  0  0  0  0]\n",
      " [21  0  0  0  0]\n",
      " [20  0  0  0  0]]\n",
      "Weighted Confusion Matrix Score:  1000\n",
      "---------------------------------\n",
      "\n",
      "quadratic\n",
      "linear\n"
     ]
    },
    {
     "name": "stderr",
     "output_type": "stream",
     "text": [
      "Epoch: 1/755/Users/Omar/anaconda/lib/python3.5/site-packages/ipykernel/__main__.py:62: RuntimeWarning: overflow encountered in square\n",
      "Epoch: 3/75"
     ]
    },
    {
     "name": "stdout",
     "output_type": "stream",
     "text": [
      "CPU times: user 12.1 s, sys: 203 ms, total: 12.3 s\n",
      "Wall time: 6.32 s\n",
      "confusion matrix\n",
      " [[13  0  0  0  0]\n",
      " [21  0  0  0  0]\n",
      " [25  0  0  0  0]\n",
      " [20  0  0  0  0]\n",
      " [20  0  0  0  0]]\n",
      "Weighted Confusion Matrix Score:  990\n",
      "---------------------------------\n",
      "\n",
      "quadratic\n",
      "linear\n"
     ]
    },
    {
     "name": "stderr",
     "output_type": "stream",
     "text": [
      "Epoch: 1/755/Users/Omar/anaconda/lib/python3.5/site-packages/ipykernel/__main__.py:62: RuntimeWarning: overflow encountered in square\n",
      "Epoch: 3/75"
     ]
    },
    {
     "name": "stdout",
     "output_type": "stream",
     "text": [
      "CPU times: user 12.1 s, sys: 214 ms, total: 12.3 s\n",
      "Wall time: 6.34 s\n",
      "confusion matrix\n",
      " [[13  0  0  0  0]\n",
      " [20  0  0  0  0]\n",
      " [25  0  0  0  0]\n",
      " [20  0  0  0  0]\n",
      " [20  0  0  0  0]]\n",
      "Weighted Confusion Matrix Score:  980\n",
      "---------------------------------\n",
      "\n",
      "quadratic\n",
      "linear\n"
     ]
    },
    {
     "name": "stderr",
     "output_type": "stream",
     "text": [
      "Epoch: 2/755"
     ]
    },
    {
     "name": "stdout",
     "output_type": "stream",
     "text": [
      "CPU times: user 12.2 s, sys: 229 ms, total: 12.4 s\n",
      "Wall time: 6.45 s\n",
      "confusion matrix\n",
      " [[13  0  0  0  0]\n",
      " [20  0  0  0  0]\n",
      " [25  0  0  0  0]\n",
      " [20  0  0  0  0]\n",
      " [20  0  0  0  0]]\n",
      "Weighted Confusion Matrix Score:  980\n",
      "---------------------------------\n",
      "\n",
      "cross\n",
      "sigmoid\n",
      "in\n"
     ]
    },
    {
     "name": "stderr",
     "output_type": "stream",
     "text": [
      "Epoch: 2/755"
     ]
    },
    {
     "name": "stdout",
     "output_type": "stream",
     "text": [
      "CPU times: user 14.8 s, sys: 244 ms, total: 15.1 s\n",
      "Wall time: 7.74 s\n",
      "confusion matrix\n",
      " [[ 0 10  0  0  4]\n",
      " [ 0 11  4  0  6]\n",
      " [ 0  9  8  0  8]\n",
      " [ 0  8  5  0  8]\n",
      " [ 0  1  6  0 14]]\n",
      "Weighted Confusion Matrix Score:  1034\n",
      "---------------------------------\n",
      "\n",
      "cross\n",
      "sigmoid\n",
      "in\n"
     ]
    },
    {
     "name": "stderr",
     "output_type": "stream",
     "text": [
      "Epoch: 2/755"
     ]
    },
    {
     "name": "stdout",
     "output_type": "stream",
     "text": [
      "CPU times: user 14.9 s, sys: 203 ms, total: 15.1 s\n",
      "Wall time: 7.72 s\n",
      "confusion matrix\n",
      " [[ 3  6  3  0  2]\n",
      " [ 4  6  6  0  5]\n",
      " [ 2  9  5  0  9]\n",
      " [ 1  5 10  1  4]\n",
      " [ 1  3  4  0 13]]\n",
      "Weighted Confusion Matrix Score:  1014\n",
      "---------------------------------\n",
      "\n",
      "cross\n",
      "sigmoid\n",
      "in\n"
     ]
    },
    {
     "name": "stderr",
     "output_type": "stream",
     "text": [
      "Epoch: 2/755"
     ]
    },
    {
     "name": "stdout",
     "output_type": "stream",
     "text": [
      "CPU times: user 14.9 s, sys: 234 ms, total: 15.1 s\n",
      "Wall time: 7.78 s\n",
      "confusion matrix\n",
      " [[ 4  8  2  0  0]\n",
      " [ 1  9 10  0  1]\n",
      " [ 0 15  7  0  3]\n",
      " [ 1  5  9  0  6]\n",
      " [ 0  3  8  0 10]]\n",
      "Weighted Confusion Matrix Score:  892\n",
      "---------------------------------\n",
      "\n",
      "cross\n",
      "sigmoid\n",
      "in\n"
     ]
    },
    {
     "name": "stderr",
     "output_type": "stream",
     "text": [
      "Epoch: 2/755"
     ]
    },
    {
     "name": "stdout",
     "output_type": "stream",
     "text": [
      "CPU times: user 15.3 s, sys: 297 ms, total: 15.6 s\n",
      "Wall time: 8.74 s\n",
      "confusion matrix\n",
      " [[ 5  5  4  0  0]\n",
      " [11  2  8  0  0]\n",
      " [ 5  5 13  0  2]\n",
      " [ 4  3  7  0  7]\n",
      " [ 1  2  9  0  9]]\n",
      "Weighted Confusion Matrix Score:  936\n",
      "---------------------------------\n",
      "\n",
      "cross\n",
      "sigmoid\n",
      "in\n"
     ]
    },
    {
     "name": "stderr",
     "output_type": "stream",
     "text": [
      "Epoch: 2/755"
     ]
    },
    {
     "name": "stdout",
     "output_type": "stream",
     "text": [
      "CPU times: user 15.1 s, sys: 248 ms, total: 15.3 s\n",
      "Wall time: 7.95 s\n",
      "confusion matrix\n",
      " [[ 0  5  8  0  1]\n",
      " [ 0  8 12  0  1]\n",
      " [ 0  7 14  0  4]\n",
      " [ 0  5 11  0  5]\n",
      " [ 0  2  6  0 12]]\n",
      "Weighted Confusion Matrix Score:  891\n",
      "---------------------------------\n",
      "\n",
      "cross\n",
      "sigmoid\n",
      "in\n"
     ]
    },
    {
     "name": "stderr",
     "output_type": "stream",
     "text": [
      "Epoch: 2/755"
     ]
    },
    {
     "name": "stdout",
     "output_type": "stream",
     "text": [
      "CPU times: user 14.9 s, sys: 242 ms, total: 15.2 s\n",
      "Wall time: 7.83 s\n",
      "confusion matrix\n",
      " [[ 0  4  5  1  3]\n",
      " [ 0  5 11  0  5]\n",
      " [ 0  5  5  0 15]\n",
      " [ 0  4  5  0 12]\n",
      " [ 0  0  2  0 18]]\n",
      "Weighted Confusion Matrix Score:  1127\n",
      "---------------------------------\n",
      "\n",
      "cross\n",
      "sigmoid\n",
      "in\n"
     ]
    },
    {
     "name": "stderr",
     "output_type": "stream",
     "text": [
      "Epoch: 2/755"
     ]
    },
    {
     "name": "stdout",
     "output_type": "stream",
     "text": [
      "CPU times: user 14.9 s, sys: 237 ms, total: 15.1 s\n",
      "Wall time: 7.76 s\n",
      "confusion matrix\n",
      " [[ 0 12  1  0  0]\n",
      " [ 0 18  0  2  1]\n",
      " [ 0 20  2  2  1]\n",
      " [ 0 11  3  4  3]\n",
      " [ 0  6  1  8  5]]\n",
      "Weighted Confusion Matrix Score:  828\n",
      "---------------------------------\n",
      "\n",
      "cross\n",
      "sigmoid\n",
      "in\n"
     ]
    },
    {
     "name": "stderr",
     "output_type": "stream",
     "text": [
      "Epoch: 2/755"
     ]
    },
    {
     "name": "stdout",
     "output_type": "stream",
     "text": [
      "CPU times: user 14.9 s, sys: 235 ms, total: 15.2 s\n",
      "Wall time: 7.8 s\n",
      "confusion matrix\n",
      " [[ 0 10  3  0  0]\n",
      " [ 0 15  3  0  3]\n",
      " [ 0  8  8  0  9]\n",
      " [ 0  4  4  0 12]\n",
      " [ 0  1  8  0 11]]\n",
      "Weighted Confusion Matrix Score:  973\n",
      "---------------------------------\n",
      "\n",
      "cross\n",
      "sigmoid\n",
      "in\n"
     ]
    },
    {
     "name": "stderr",
     "output_type": "stream",
     "text": [
      "Epoch: 2/755"
     ]
    },
    {
     "name": "stdout",
     "output_type": "stream",
     "text": [
      "CPU times: user 14.9 s, sys: 234 ms, total: 15.1 s\n",
      "Wall time: 7.77 s\n",
      "confusion matrix\n",
      " [[ 0 10  2  0  1]\n",
      " [ 0  7 13  0  0]\n",
      " [ 0  6 16  0  3]\n",
      " [ 0  3 13  0  4]\n",
      " [ 0  3 11  0  6]]\n",
      "Weighted Confusion Matrix Score:  798\n",
      "---------------------------------\n",
      "\n",
      "cross\n",
      "sigmoid\n",
      "in\n"
     ]
    },
    {
     "name": "stderr",
     "output_type": "stream",
     "text": [
      "Epoch: 1/755/Users/Omar/anaconda/lib/python3.5/site-packages/ipykernel/__main__.py:6: RuntimeWarning: invalid value encountered in log\n",
      "/Users/Omar/anaconda/lib/python3.5/site-packages/ipykernel/__main__.py:61: RuntimeWarning: invalid value encountered in multiply\n",
      "/Users/Omar/anaconda/lib/python3.5/site-packages/ipykernel/__main__.py:62: RuntimeWarning: invalid value encountered in multiply\n",
      "Epoch: 2/75"
     ]
    },
    {
     "name": "stdout",
     "output_type": "stream",
     "text": [
      "CPU times: user 14.9 s, sys: 241 ms, total: 15.2 s\n",
      "Wall time: 7.8 s\n",
      "confusion matrix\n",
      " [[ 0 13  0  0  0]\n",
      " [ 0 15  4  0  1]\n",
      " [ 0  8 11  0  6]\n",
      " [ 0  4 11  0  5]\n",
      " [ 0  5  5  0 10]]\n",
      "Weighted Confusion Matrix Score:  862\n",
      "---------------------------------\n",
      "\n",
      "cross\n",
      "linear\n",
      "in\n"
     ]
    },
    {
     "name": "stderr",
     "output_type": "stream",
     "text": [
      "Epoch: 1/755/Users/Omar/anaconda/lib/python3.5/site-packages/ipykernel/__main__.py:6: RuntimeWarning: invalid value encountered in log\n",
      "/Users/Omar/anaconda/lib/python3.5/site-packages/ipykernel/__main__.py:61: RuntimeWarning: invalid value encountered in multiply\n",
      "/Users/Omar/anaconda/lib/python3.5/site-packages/ipykernel/__main__.py:62: RuntimeWarning: invalid value encountered in multiply\n",
      "Epoch: 2/75"
     ]
    },
    {
     "name": "stdout",
     "output_type": "stream",
     "text": [
      "CPU times: user 14 s, sys: 228 ms, total: 14.3 s\n",
      "Wall time: 7.32 s\n",
      "confusion matrix\n",
      " [[14  0  0  0  0]\n",
      " [21  0  0  0  0]\n",
      " [25  0  0  0  0]\n",
      " [21  0  0  0  0]\n",
      " [21  0  0  0  0]]\n",
      "Weighted Confusion Matrix Score:  1020\n",
      "---------------------------------\n",
      "\n",
      "cross\n",
      "linear\n",
      "in\n"
     ]
    },
    {
     "name": "stderr",
     "output_type": "stream",
     "text": [
      "Epoch: 1/755/Users/Omar/anaconda/lib/python3.5/site-packages/ipykernel/__main__.py:6: RuntimeWarning: invalid value encountered in log\n",
      "/Users/Omar/anaconda/lib/python3.5/site-packages/ipykernel/__main__.py:61: RuntimeWarning: invalid value encountered in multiply\n",
      "/Users/Omar/anaconda/lib/python3.5/site-packages/ipykernel/__main__.py:62: RuntimeWarning: invalid value encountered in multiply\n",
      "Epoch: 3/75"
     ]
    },
    {
     "name": "stdout",
     "output_type": "stream",
     "text": [
      "CPU times: user 14.2 s, sys: 240 ms, total: 14.4 s\n",
      "Wall time: 7.4 s\n",
      "confusion matrix\n",
      " [[14  0  0  0  0]\n",
      " [21  0  0  0  0]\n",
      " [25  0  0  0  0]\n",
      " [21  0  0  0  0]\n",
      " [21  0  0  0  0]]\n",
      "Weighted Confusion Matrix Score:  1020\n",
      "---------------------------------\n",
      "\n",
      "cross\n",
      "linear\n",
      "in\n"
     ]
    },
    {
     "name": "stderr",
     "output_type": "stream",
     "text": [
      "Epoch: 1/755/Users/Omar/anaconda/lib/python3.5/site-packages/ipykernel/__main__.py:6: RuntimeWarning: invalid value encountered in log\n",
      "/Users/Omar/anaconda/lib/python3.5/site-packages/ipykernel/__main__.py:61: RuntimeWarning: invalid value encountered in multiply\n",
      "/Users/Omar/anaconda/lib/python3.5/site-packages/ipykernel/__main__.py:62: RuntimeWarning: invalid value encountered in multiply\n",
      "Epoch: 2/75"
     ]
    },
    {
     "name": "stdout",
     "output_type": "stream",
     "text": [
      "CPU times: user 15 s, sys: 327 ms, total: 15.4 s\n",
      "Wall time: 8.68 s\n",
      "confusion matrix\n",
      " [[14  0  0  0  0]\n",
      " [21  0  0  0  0]\n",
      " [25  0  0  0  0]\n",
      " [21  0  0  0  0]\n",
      " [21  0  0  0  0]]\n",
      "Weighted Confusion Matrix Score:  1020\n",
      "---------------------------------\n",
      "\n",
      "cross\n",
      "linear\n",
      "in\n"
     ]
    },
    {
     "name": "stderr",
     "output_type": "stream",
     "text": [
      "Epoch: 1/755/Users/Omar/anaconda/lib/python3.5/site-packages/ipykernel/__main__.py:6: RuntimeWarning: invalid value encountered in log\n",
      "/Users/Omar/anaconda/lib/python3.5/site-packages/ipykernel/__main__.py:61: RuntimeWarning: invalid value encountered in multiply\n",
      "/Users/Omar/anaconda/lib/python3.5/site-packages/ipykernel/__main__.py:62: RuntimeWarning: invalid value encountered in multiply\n",
      "Epoch: 2/75"
     ]
    },
    {
     "name": "stdout",
     "output_type": "stream",
     "text": [
      "CPU times: user 15.2 s, sys: 326 ms, total: 15.5 s\n",
      "Wall time: 9 s\n",
      "confusion matrix\n",
      " [[14  0  0  0  0]\n",
      " [21  0  0  0  0]\n",
      " [25  0  0  0  0]\n",
      " [21  0  0  0  0]\n",
      " [21  0  0  0  0]]\n",
      "Weighted Confusion Matrix Score:  1020\n",
      "---------------------------------\n",
      "\n",
      "cross\n",
      "linear\n",
      "in\n"
     ]
    },
    {
     "name": "stderr",
     "output_type": "stream",
     "text": [
      "Epoch: 1/755/Users/Omar/anaconda/lib/python3.5/site-packages/ipykernel/__main__.py:6: RuntimeWarning: invalid value encountered in log\n",
      "/Users/Omar/anaconda/lib/python3.5/site-packages/ipykernel/__main__.py:61: RuntimeWarning: invalid value encountered in multiply\n",
      "/Users/Omar/anaconda/lib/python3.5/site-packages/ipykernel/__main__.py:62: RuntimeWarning: invalid value encountered in multiply\n",
      "Epoch: 2/75"
     ]
    },
    {
     "name": "stdout",
     "output_type": "stream",
     "text": [
      "CPU times: user 15.3 s, sys: 333 ms, total: 15.7 s\n",
      "Wall time: 9.12 s\n",
      "confusion matrix\n",
      " [[14  0  0  0  0]\n",
      " [21  0  0  0  0]\n",
      " [25  0  0  0  0]\n",
      " [21  0  0  0  0]\n",
      " [20  0  0  0  0]]\n",
      "Weighted Confusion Matrix Score:  1010\n",
      "---------------------------------\n",
      "\n",
      "cross\n",
      "linear\n",
      "in\n"
     ]
    },
    {
     "name": "stderr",
     "output_type": "stream",
     "text": [
      "Epoch: 1/755/Users/Omar/anaconda/lib/python3.5/site-packages/ipykernel/__main__.py:6: RuntimeWarning: invalid value encountered in log\n",
      "/Users/Omar/anaconda/lib/python3.5/site-packages/ipykernel/__main__.py:61: RuntimeWarning: invalid value encountered in multiply\n",
      "/Users/Omar/anaconda/lib/python3.5/site-packages/ipykernel/__main__.py:62: RuntimeWarning: invalid value encountered in multiply\n",
      "Epoch: 3/75"
     ]
    },
    {
     "name": "stdout",
     "output_type": "stream",
     "text": [
      "CPU times: user 13.7 s, sys: 217 ms, total: 13.9 s\n",
      "Wall time: 7.15 s\n",
      "confusion matrix\n",
      " [[13  0  0  0  0]\n",
      " [21  0  0  0  0]\n",
      " [25  0  0  0  0]\n",
      " [21  0  0  0  0]\n",
      " [20  0  0  0  0]]\n",
      "Weighted Confusion Matrix Score:  1000\n",
      "---------------------------------\n",
      "\n",
      "cross\n",
      "linear\n",
      "in\n"
     ]
    },
    {
     "name": "stderr",
     "output_type": "stream",
     "text": [
      "Epoch: 1/755/Users/Omar/anaconda/lib/python3.5/site-packages/ipykernel/__main__.py:6: RuntimeWarning: invalid value encountered in log\n",
      "/Users/Omar/anaconda/lib/python3.5/site-packages/ipykernel/__main__.py:61: RuntimeWarning: invalid value encountered in multiply\n",
      "/Users/Omar/anaconda/lib/python3.5/site-packages/ipykernel/__main__.py:62: RuntimeWarning: invalid value encountered in multiply\n",
      "Epoch: 2/75"
     ]
    },
    {
     "name": "stdout",
     "output_type": "stream",
     "text": [
      "CPU times: user 14.1 s, sys: 261 ms, total: 14.4 s\n",
      "Wall time: 7.59 s\n",
      "confusion matrix\n",
      " [[13  0  0  0  0]\n",
      " [21  0  0  0  0]\n",
      " [25  0  0  0  0]\n",
      " [21  0  0  0  0]\n",
      " [20  0  0  0  0]]\n",
      "Weighted Confusion Matrix Score:  1000\n",
      "---------------------------------\n",
      "\n",
      "cross\n",
      "linear\n",
      "in\n"
     ]
    },
    {
     "name": "stderr",
     "output_type": "stream",
     "text": [
      "Epoch: 1/755/Users/Omar/anaconda/lib/python3.5/site-packages/ipykernel/__main__.py:6: RuntimeWarning: invalid value encountered in log\n",
      "/Users/Omar/anaconda/lib/python3.5/site-packages/ipykernel/__main__.py:61: RuntimeWarning: invalid value encountered in multiply\n",
      "/Users/Omar/anaconda/lib/python3.5/site-packages/ipykernel/__main__.py:62: RuntimeWarning: invalid value encountered in multiply\n",
      "Epoch: 2/75"
     ]
    },
    {
     "name": "stdout",
     "output_type": "stream",
     "text": [
      "CPU times: user 17.4 s, sys: 486 ms, total: 17.9 s\n",
      "Wall time: 12.3 s\n",
      "confusion matrix\n",
      " [[13  0  0  0  0]\n",
      " [21  0  0  0  0]\n",
      " [25  0  0  0  0]\n",
      " [20  0  0  0  0]\n",
      " [20  0  0  0  0]]\n",
      "Weighted Confusion Matrix Score:  990\n",
      "---------------------------------\n",
      "\n",
      "cross\n",
      "linear\n",
      "in\n"
     ]
    },
    {
     "name": "stderr",
     "output_type": "stream",
     "text": [
      "Epoch: 1/755/Users/Omar/anaconda/lib/python3.5/site-packages/ipykernel/__main__.py:6: RuntimeWarning: invalid value encountered in log\n",
      "/Users/Omar/anaconda/lib/python3.5/site-packages/ipykernel/__main__.py:61: RuntimeWarning: invalid value encountered in multiply\n",
      "/Users/Omar/anaconda/lib/python3.5/site-packages/ipykernel/__main__.py:62: RuntimeWarning: invalid value encountered in multiply\n",
      "Epoch: 2/75"
     ]
    },
    {
     "name": "stdout",
     "output_type": "stream",
     "text": [
      "CPU times: user 14.8 s, sys: 318 ms, total: 15.1 s\n",
      "Wall time: 8.11 s\n",
      "confusion matrix\n",
      " [[13  0  0  0  0]\n",
      " [20  0  0  0  0]\n",
      " [25  0  0  0  0]\n",
      " [20  0  0  0  0]\n",
      " [20  0  0  0  0]]\n",
      "Weighted Confusion Matrix Score:  980\n",
      "---------------------------------\n",
      "\n",
      "cross\n",
      "linear\n",
      "in\n"
     ]
    },
    {
     "name": "stderr",
     "output_type": "stream",
     "text": [
      "Epoch: 75/75"
     ]
    },
    {
     "name": "stdout",
     "output_type": "stream",
     "text": [
      "CPU times: user 15.5 s, sys: 372 ms, total: 15.9 s\n",
      "Wall time: 8.76 s\n",
      "confusion matrix\n",
      " [[13  0  0  0  0]\n",
      " [20  0  0  0  0]\n",
      " [25  0  0  0  0]\n",
      " [20  0  0  0  0]\n",
      " [20  0  0  0  0]]\n",
      "Weighted Confusion Matrix Score:  980\n",
      "---------------------------------\n",
      "Best Score:  798\n",
      "Best cost:  cross\n",
      "Best Non-Linearity:  sigmoid\n"
     ]
    }
   ],
   "source": [
    "with np.errstate(all='ignore'):\n",
    "\n",
    "    nonlinearities = [\"sigmoid\",\"linear\"]\n",
    "    costs = ['quadratic','cross']\n",
    "    \n",
    "    custom_performances = []\n",
    "    lowest_score = 10000\n",
    "    best_cost = \"\"\n",
    "    best_nonlin = \"\"\n",
    "for cost in costs:\n",
    "    for nonlinearity in nonlinearities:\n",
    "\n",
    "        vals = {'n_hidden':50, \n",
    "                     'C':1e-2, 'epochs':75, 'eta':0.001, \n",
    "                     'alpha':0.0, 'decrease_const':1e-9, 'minibatches':200,\n",
    "                     'shuffle':True,'random_state':1, \n",
    "                       'nonlinearity': nonlinearity}\n",
    "        for train_indices, test_indices in cv_object.split(X,y): \n",
    "                    print(\"---------------------------------\")\n",
    "                    print(\"\")\n",
    "                    print(cost)\n",
    "                    print(nonlinearity)\n",
    "                    # I will create new variables here so that it is more obvious what \n",
    "                    # the code is doing (you can compact this syntax and avoid duplicating memory,\n",
    "                    # but it makes this code less readable)\n",
    "                    X_train = (X[train_indices])\n",
    "                    y_train = y[train_indices]\n",
    "\n",
    "                    X_test = (X[test_indices])\n",
    "                    y_test = y[test_indices]\n",
    "                    \n",
    "                    if(cost == \"quadratic\"):\n",
    "                        nn_long_sigmoid = TLPGaussianInitialQuad(**vals)\n",
    "                    else:\n",
    "                        print(\"in\")\n",
    "                        nn_long_sigmoid = TLPGaussianInitial(**vals)\n",
    "\n",
    "                    #%time nn_long_sigmoid.fit(X_train, y_train, print_progress=1, XY_test=(X_test,y_test))\n",
    "                    %time nn_long_sigmoid.fit(X_train, y_train, print_progress=1)\n",
    "                    y_hat = nn_long_sigmoid.predict(X_test) # get test set precitions\n",
    "\n",
    "                    # now let's get the accuracy and confusion matrix for this iterations of training/testing\n",
    "                    acc = mt.accuracy_score(y_test,y_hat+1)\n",
    "            #         lr_clf_accuracies.append(acc)\n",
    "            #         cost_accuracies.append([acc])\n",
    "\n",
    "                    conf = mt.confusion_matrix(y_test,y_hat+1)\n",
    "        #             print(vals)\n",
    "#                     print_result(nn_long_sigmoid,X_train,y_train,X_test,y_test,title=\"Long Run\",color=\"red\")\n",
    "#                     plt.show()\n",
    "                    print(\"confusion matrix\\n\",conf)\n",
    "                    score = get_confusion_costTot(conf, cost_matrix)\n",
    "                    print(\"Weighted Confusion Matrix Score: \", score)\n",
    "                    custom_performances.append(score)\n",
    "                    if(score < lowest_score): \n",
    "                        lowest_score=score\n",
    "                        best_cost=cost\n",
    "                        best_nonlin=nonlinearity\n",
    "\n",
    "print(\"---------------------------------\")\n",
    "\n",
    "print(\"Best Score: \",lowest_score)               \n",
    "print(\"Best cost: \",best_cost)\n",
    "print(\"Best Non-Linearity: \",best_nonlin)\n"
   ]
  },
  {
   "cell_type": "markdown",
   "metadata": {},
   "source": [
    "## Tuning the hyper-parameters CHECK RANGE FOR HYPERPARAMETERS"
   ]
  },
  {
   "cell_type": "code",
   "execution_count": 19,
   "metadata": {
    "collapsed": true
   },
   "outputs": [],
   "source": [
    "hidden_neurons = np.linspace(150, 200, num=10)\n",
    "hidden_neurons.sort()\n",
    "\n",
    "costs = np.logspace(-3,1, num=10)\n",
    "costs.sort()"
   ]
  },
  {
   "cell_type": "code",
   "execution_count": null,
   "metadata": {
    "collapsed": false
   },
   "outputs": [],
   "source": [
    "with np.errstate(all='ignore'):\n",
    "    param_grid_input = {'n_hidden': hidden_neurons, 'C': costs}\n",
    "    gscv = GridSearchCV(cv= cv_object, estimator=nn_long_sigmoid, param_grid= param_grid_input, scoring= confusion_scorer,refit=False)\n",
    "    gscv.fit(X,y)"
   ]
  },
  {
   "cell_type": "markdown",
   "metadata": {},
   "source": [
    "Here we are using our scoring method using mentioned earlier to determine the best values for our hyperameters C (costs), and n_hidden (number of neurons in the hidden layer). With GridSearch, we will exhausitvely test our hyperamters and see which gives us our best score (mentioned under Evaluation above). We decided to use only two hyper parameters because our laptops were taking large amounts of time once we included three hyperparamters."
   ]
  },
  {
   "cell_type": "code",
   "execution_count": null,
   "metadata": {
    "collapsed": false
   },
   "outputs": [],
   "source": [
    "plt.plot()"
   ]
  },
  {
   "cell_type": "markdown",
   "metadata": {},
   "source": [
    "## Comparing our MLP Implementation with that of Scikit Learn  \n"
   ]
  },
  {
   "cell_type": "code",
   "execution_count": 21,
   "metadata": {
    "collapsed": false
   },
   "outputs": [
    {
     "name": "stderr",
     "output_type": "stream",
     "text": [
      "Epoch: 15/15"
     ]
    },
    {
     "name": "stdout",
     "output_type": "stream",
     "text": [
      "CPU times: user 2.64 s, sys: 48.8 ms, total: 2.69 s\n",
      "Wall time: 1.39 s\n",
      "confusion matrix\n",
      " [[ 0  2 12  0  0]\n",
      " [ 0  3 18  0  0]\n",
      " [ 0  0 25  0  0]\n",
      " [ 0  0 21  0  0]\n",
      " [ 0  1 20  0  0]]\n",
      "Weighted Confusion Matrix Score:  714\n",
      "SCIKIT*****\n",
      "Validation Acc: 0.245098039216\n",
      "confusion matrix\n",
      " [[ 2 12  0  0  0]\n",
      " [ 3 18  0  0  0]\n",
      " [ 0 25  0  0  0]\n",
      " [ 0 21  0  0  0]\n",
      " [ 1 20  0  0  0]]\n",
      "Weighted Confusion Matrix Score:  732\n"
     ]
    },
    {
     "name": "stderr",
     "output_type": "stream",
     "text": [
      "Epoch: 15/15"
     ]
    },
    {
     "name": "stdout",
     "output_type": "stream",
     "text": [
      "CPU times: user 2.88 s, sys: 83.7 ms, total: 2.96 s\n",
      "Wall time: 1.93 s\n",
      "confusion matrix\n",
      " [[ 0  1 13  0  0]\n",
      " [ 0  0 21  0  0]\n",
      " [ 0  0 25  0  0]\n",
      " [ 0  0 21  0  0]\n",
      " [ 0  0 21  0  0]]\n",
      "Weighted Confusion Matrix Score:  714\n",
      "SCIKIT*****\n",
      "Validation Acc: 0.245098039216\n",
      "confusion matrix\n",
      " [[ 1 13  0  0  0]\n",
      " [ 0 21  0  0  0]\n",
      " [ 0 25  0  0  0]\n",
      " [ 0 21  0  0  0]\n",
      " [ 0 21  0  0  0]]\n",
      "Weighted Confusion Matrix Score:  717\n"
     ]
    },
    {
     "name": "stderr",
     "output_type": "stream",
     "text": [
      "Epoch: 15/15"
     ]
    },
    {
     "name": "stdout",
     "output_type": "stream",
     "text": [
      "CPU times: user 3.3 s, sys: 93.7 ms, total: 3.39 s\n",
      "Wall time: 2.34 s\n",
      "confusion matrix\n",
      " [[ 0  0 14  0  0]\n",
      " [ 0  1 20  0  0]\n",
      " [ 0  0 25  0  0]\n",
      " [ 0  0 21  0  0]\n",
      " [ 0  0 21  0  0]]\n",
      "Weighted Confusion Matrix Score:  714\n",
      "SCIKIT*****\n",
      "Validation Acc: 0.245098039216\n",
      "confusion matrix\n",
      " [[ 0 14  0  0  0]\n",
      " [ 1 20  0  0  0]\n",
      " [ 0 25  0  0  0]\n",
      " [ 0 21  0  0  0]\n",
      " [ 0 21  0  0  0]]\n",
      "Weighted Confusion Matrix Score:  717\n"
     ]
    },
    {
     "name": "stderr",
     "output_type": "stream",
     "text": [
      "Epoch: 15/15"
     ]
    },
    {
     "name": "stdout",
     "output_type": "stream",
     "text": [
      "CPU times: user 3.29 s, sys: 99.6 ms, total: 3.39 s\n",
      "Wall time: 2.42 s\n",
      "confusion matrix\n",
      " [[ 0  1 13  0  0]\n",
      " [ 0  0 21  0  0]\n",
      " [ 0  0 25  0  0]\n",
      " [ 0  0 21  0  0]\n",
      " [ 0  0 21  0  0]]\n",
      "Weighted Confusion Matrix Score:  714\n",
      "SCIKIT*****\n",
      "Validation Acc: 0.245098039216\n",
      "confusion matrix\n",
      " [[ 1 13  0  0  0]\n",
      " [ 0 21  0  0  0]\n",
      " [ 0 25  0  0  0]\n",
      " [ 0 21  0  0  0]\n",
      " [ 0 21  0  0  0]]\n",
      "Weighted Confusion Matrix Score:  717\n"
     ]
    },
    {
     "name": "stderr",
     "output_type": "stream",
     "text": [
      "Epoch: 15/15"
     ]
    },
    {
     "name": "stdout",
     "output_type": "stream",
     "text": [
      "CPU times: user 3.26 s, sys: 91.3 ms, total: 3.35 s\n",
      "Wall time: 2.37 s\n",
      "confusion matrix\n",
      " [[ 0  0 14  0  0]\n",
      " [ 0  0 21  0  0]\n",
      " [ 0  0 25  0  0]\n",
      " [ 0  0 21  0  0]\n",
      " [ 0  0 20  0  0]]\n",
      "Weighted Confusion Matrix Score:  707\n",
      "SCIKIT*****\n",
      "Validation Acc: 0.247524752475\n",
      "confusion matrix\n",
      " [[ 0 14  0  0  0]\n",
      " [ 0 21  0  0  0]\n",
      " [ 0 25  0  0  0]\n",
      " [ 0 21  0  0  0]\n",
      " [ 0 20  0  0  0]]\n",
      "Weighted Confusion Matrix Score:  707\n"
     ]
    },
    {
     "name": "stderr",
     "output_type": "stream",
     "text": [
      "Epoch: 15/15"
     ]
    },
    {
     "name": "stdout",
     "output_type": "stream",
     "text": [
      "CPU times: user 2.5 s, sys: 38.6 ms, total: 2.54 s\n",
      "Wall time: 1.28 s\n",
      "confusion matrix\n",
      " [[ 0  0 13  0  0]\n",
      " [ 0  0 21  0  0]\n",
      " [ 0  0 25  0  0]\n",
      " [ 0  0 21  0  0]\n",
      " [ 0  0 20  0  0]]\n",
      "Weighted Confusion Matrix Score:  700\n",
      "SCIKIT*****\n",
      "Validation Acc: 0.25\n",
      "confusion matrix\n",
      " [[ 0 13  0  0  0]\n",
      " [ 0 21  0  0  0]\n",
      " [ 0 25  0  0  0]\n",
      " [ 0 21  0  0  0]\n",
      " [ 0 20  0  0  0]]\n",
      "Weighted Confusion Matrix Score:  700\n"
     ]
    },
    {
     "name": "stderr",
     "output_type": "stream",
     "text": [
      "Epoch: 15/15"
     ]
    },
    {
     "name": "stdout",
     "output_type": "stream",
     "text": [
      "CPU times: user 3.01 s, sys: 90.4 ms, total: 3.1 s\n",
      "Wall time: 1.97 s\n",
      "confusion matrix\n",
      " [[ 0  0 13  0  0]\n",
      " [ 0  0 21  0  0]\n",
      " [ 0  0 25  0  0]\n",
      " [ 0  0 21  0  0]\n",
      " [ 0  0 20  0  0]]\n",
      "Weighted Confusion Matrix Score:  700\n",
      "SCIKIT*****\n",
      "Validation Acc: 0.25\n",
      "confusion matrix\n",
      " [[ 0 13  0  0  0]\n",
      " [ 0 21  0  0  0]\n",
      " [ 0 25  0  0  0]\n",
      " [ 0 21  0  0  0]\n",
      " [ 0 20  0  0  0]]\n",
      "Weighted Confusion Matrix Score:  700\n"
     ]
    },
    {
     "name": "stderr",
     "output_type": "stream",
     "text": [
      "Epoch: 15/15"
     ]
    },
    {
     "name": "stdout",
     "output_type": "stream",
     "text": [
      "CPU times: user 2.8 s, sys: 73.2 ms, total: 2.87 s\n",
      "Wall time: 1.53 s\n",
      "confusion matrix\n",
      " [[ 0  0 13  0  0]\n",
      " [ 0  0 21  0  0]\n",
      " [ 0  0 25  0  0]\n",
      " [ 0  0 20  0  0]\n",
      " [ 0  0 20  0  0]]\n",
      "Weighted Confusion Matrix Score:  693\n",
      "SCIKIT*****\n",
      "Validation Acc: 0.252525252525\n",
      "confusion matrix\n",
      " [[ 0 13  0  0  0]\n",
      " [ 0 21  0  0  0]\n",
      " [ 0 25  0  0  0]\n",
      " [ 0 20  0  0  0]\n",
      " [ 0 20  0  0  0]]\n",
      "Weighted Confusion Matrix Score:  693\n"
     ]
    },
    {
     "name": "stderr",
     "output_type": "stream",
     "text": [
      "Epoch: 15/15"
     ]
    },
    {
     "name": "stdout",
     "output_type": "stream",
     "text": [
      "CPU times: user 2.45 s, sys: 37.6 ms, total: 2.49 s\n",
      "Wall time: 1.26 s\n",
      "confusion matrix\n",
      " [[ 0  0 13  0  0]\n",
      " [ 0  0 20  0  0]\n",
      " [ 0  0 25  0  0]\n",
      " [ 0  0 20  0  0]\n",
      " [ 0  0 20  0  0]]\n",
      "Weighted Confusion Matrix Score:  686\n",
      "SCIKIT*****\n",
      "Validation Acc: 0.255102040816\n",
      "confusion matrix\n",
      " [[ 0 13  0  0  0]\n",
      " [ 0 20  0  0  0]\n",
      " [ 0 25  0  0  0]\n",
      " [ 0 20  0  0  0]\n",
      " [ 0 20  0  0  0]]\n",
      "Weighted Confusion Matrix Score:  686\n"
     ]
    },
    {
     "name": "stderr",
     "output_type": "stream",
     "text": [
      "Epoch: 15/15"
     ]
    },
    {
     "name": "stdout",
     "output_type": "stream",
     "text": [
      "CPU times: user 2.46 s, sys: 35.1 ms, total: 2.49 s\n",
      "Wall time: 1.26 s\n",
      "confusion matrix\n",
      " [[ 0  0 13  0  0]\n",
      " [ 0  0 20  0  0]\n",
      " [ 0  0 25  0  0]\n",
      " [ 0  0 20  0  0]\n",
      " [ 0  0 20  0  0]]\n",
      "Weighted Confusion Matrix Score:  686\n",
      "SCIKIT*****\n",
      "Validation Acc: 0.255102040816\n",
      "confusion matrix\n",
      " [[ 0 13  0  0  0]\n",
      " [ 0 20  0  0  0]\n",
      " [ 0 25  0  0  0]\n",
      " [ 0 20  0  0  0]\n",
      " [ 0 20  0  0  0]]\n",
      "Weighted Confusion Matrix Score:  686\n"
     ]
    }
   ],
   "source": [
    "from sklearn.neural_network import MLPClassifier\n",
    "\n",
    "vals = {'n_hidden':50, \n",
    "         'C':1e-2, 'epochs':15, 'eta':0.001, \n",
    "         'alpha':0.0, 'decrease_const':1e-9, 'minibatches':200,\n",
    "         'shuffle':True,'random_state':1, \n",
    "           'nonlinearity': \"sigmoid\"}\n",
    "custom_performances = []\n",
    "custom_times = []\n",
    "custom_mem = []\n",
    "sk_performances = []\n",
    "sk_times = []\n",
    "sk_mem = []\n",
    "for train_indices, test_indices in cv_object.split(X,y): \n",
    "            \n",
    "            # I will create new variables here so that it is more obvious what \n",
    "            # the code is doing (you can compact this syntax and avoid duplicating memory,\n",
    "            # but it makes this code less readable)\n",
    "            X_train = (X[train_indices])\n",
    "            y_train = y[train_indices]\n",
    "\n",
    "            X_test = (X[test_indices])\n",
    "            y_test = y[test_indices]\n",
    "\n",
    "            nn_long_sigmoid = TLPGaussianInitialQuad(**vals)\n",
    "           \n",
    "\n",
    "            #%time nn_long_sigmoid.fit(X_train, y_train, print_progress=1, XY_test=(X_test,y_test))\n",
    "            st = time.time()\n",
    "\n",
    "            mem = memory_usage((nn_long_sigmoid.fit,(X_train,y_train))) # train object\n",
    "            t = (time.time() -st)\n",
    "            custom_times.append(t)\n",
    "            custom_mem.append(mem[0])\n",
    "\n",
    "            %time nn_long_sigmoid.fit(X_train, y_train, print_progress=1)\n",
    "            y_hat = nn_long_sigmoid.predict(X_test) # get test set precitions\n",
    "\n",
    "            # now let's get the accuracy and confusion matrix for this iterations of training/testing\n",
    "            acc = mt.accuracy_score(y_test,y_hat+1)\n",
    "    #         lr_clf_accuracies.append(acc)\n",
    "    #         cost_accuracies.append([acc])\n",
    "\n",
    "            conf = mt.confusion_matrix(y_test,y_hat+1)\n",
    "#             print(vals)\n",
    "#                     print_result(nn_long_sigmoid,X_train,y_train,X_test,y_test,title=\"Long Run\",color=\"red\")\n",
    "#                     plt.show()\n",
    "            print(\"confusion matrix\\n\",conf)\n",
    "            score = get_confusion_costTot(conf, cost_matrix)\n",
    "            print(\"Weighted Confusion Matrix Score: \", score)\n",
    "            custom_performances.append(score)\n",
    "            \n",
    "            clf = MLPClassifier(hidden_layer_sizes=(50, ), \n",
    "                        activation='relu', # type of non-linearity, every layer\n",
    "                        solver='sgd', \n",
    "                        alpha=1e-4, # L2 penalty\n",
    "                        batch_size= 'auto', # min of 200, num_samples\n",
    "                        learning_rate='constant', # adapt learning? only for sgd\n",
    "                        learning_rate_init=0.1, # only SGD\n",
    "                        power_t=0.0,    # only SGD with inverse scaling of learning rate\n",
    "                        max_iter=75, # stopping criteria\n",
    "                        shuffle=True, \n",
    "                        random_state=1, \n",
    "                        tol=0, # for stopping\n",
    "                        verbose=False, \n",
    "                        warm_start=False, \n",
    "                        momentum=0.9, # only SGD\n",
    "                        nesterovs_momentum=False, # only SGD\n",
    "                        early_stopping=False, \n",
    "                        validation_fraction=0.0, # only if early_stop is true\n",
    "                        beta_1=0.9, # adam decay rate of moment\n",
    "                        beta_2=0.999, # adam decay rate of moment\n",
    "                        epsilon=1e-08) # adam numerical stabilizer\n",
    "            \n",
    "            print(\"SCIKIT*****\")\n",
    "            \n",
    "            st = time.time()\n",
    "\n",
    "            mem = memory_usage((clf.fit,(X_train,y_train))) # train object\n",
    "            t = (time.time() -st)\n",
    "            sk_times.append(t)\n",
    "            sk_mem.append(mem[0])\n",
    "#             %time clf.fit(X_train,y_train)\n",
    "            yhat = clf.predict(X_test)\n",
    "            print('Validation Acc:',accuracy_score(yhat,y_test))\n",
    "            conf = mt.confusion_matrix(y_test,y_hat)\n",
    "                    #             print(vals)\n",
    "            #                     print_result(nn_long_sigmoid,X_train,y_train,X_test,y_test,title=\"Long Run\",color=\"red\")\n",
    "            #                     plt.show()\n",
    "            print(\"confusion matrix\\n\",conf)\n",
    "            score = get_confusion_costTot(conf, cost_matrix)\n",
    "            print(\"Weighted Confusion Matrix Score: \", score)\n",
    "            sk_performances.append(score)\n"
   ]
  },
  {
   "cell_type": "markdown",
   "metadata": {},
   "source": [
    "## Comparing Implementations in terms of Generalization Performance, Computation Time, and Memory Usage"
   ]
  },
  {
   "cell_type": "code",
   "execution_count": 22,
   "metadata": {
    "collapsed": false
   },
   "outputs": [
    {
     "name": "stdout",
     "output_type": "stream",
     "text": [
      "[732, 717, 717, 717, 707, 700, 700, 693, 686, 686]\n",
      "[714, 714, 714, 714, 707, 700, 700, 693, 686, 686]\n"
     ]
    }
   ],
   "source": [
    "print(sk_performances)\n",
    "print(custom_performances)"
   ]
  },
  {
   "cell_type": "code",
   "execution_count": 23,
   "metadata": {
    "collapsed": false
   },
   "outputs": [
    {
     "name": "stdout",
     "output_type": "stream",
     "text": [
      "9726.129508018494\n"
     ]
    },
    {
     "data": {
      "image/png": "[encoded data removed]",
      "text/plain": [
       "<matplotlib.figure.Figure at 0x110889b38>"
      ]
     },
     "metadata": {},
     "output_type": "display_data"
    },
    {
     "data": {
      "text/plain": [
       "<matplotlib.figure.Figure at 0x110889780>"
      ]
     },
     "metadata": {},
     "output_type": "display_data"
    }
   ],
   "source": [
    "plt.boxplot([sk_performances,custom_performances])\n",
    "plt.title(\"Comparing Generalization Perfomances\")\n",
    "plt.xlabel('')\n",
    "plt.ylabel('Generalization Performances')\n",
    "plt.xticks([1,2],['SKL','OURS'])\n",
    "plt.figure()\n",
    "print((time.time() -st)*100)\n",
    "# ax = fig.add_subplot(111)\n"
   ]
  },
  {
   "cell_type": "markdown",
   "metadata": {},
   "source": [
    "We see here that both implementations score similar values based on our scorer method."
   ]
  },
  {
   "cell_type": "code",
   "execution_count": 24,
   "metadata": {
    "collapsed": false
   },
   "outputs": [
    {
     "data": {
      "text/plain": [
       "<matplotlib.figure.Figure at 0x110846a58>"
      ]
     },
     "execution_count": 24,
     "metadata": {},
     "output_type": "execute_result"
    },
    {
     "data": {
      "image/png": "[encoded data removed]",
      "text/plain": [
       "<matplotlib.figure.Figure at 0x110846b70>"
      ]
     },
     "metadata": {},
     "output_type": "display_data"
    },
    {
     "data": {
      "text/plain": [
       "<matplotlib.figure.Figure at 0x110846a58>"
      ]
     },
     "metadata": {},
     "output_type": "display_data"
    }
   ],
   "source": [
    "plt.boxplot([sk_times,custom_times])\n",
    "plt.title(\"Comparing Computation Times\")\n",
    "plt.xlabel('Implementation')\n",
    "plt.ylabel('Training Time (seconds) ')\n",
    "plt.xticks([1,2],['SKL','OURS'])\n",
    "plt.figure()"
   ]
  },
  {
   "cell_type": "markdown",
   "metadata": {},
   "source": [
    "Despite our performance scores being similar, SKL is much faster than our custom implementation."
   ]
  },
  {
   "cell_type": "code",
   "execution_count": 25,
   "metadata": {
    "collapsed": false
   },
   "outputs": [
    {
     "data": {
      "text/plain": [
       "<matplotlib.figure.Figure at 0x11030b0f0>"
      ]
     },
     "execution_count": 25,
     "metadata": {},
     "output_type": "execute_result"
    },
    {
     "data": {
      "image/png": "[encoded data removed]",
      "text/plain": [
       "<matplotlib.figure.Figure at 0x11030b128>"
      ]
     },
     "metadata": {},
     "output_type": "display_data"
    },
    {
     "data": {
      "text/plain": [
       "<matplotlib.figure.Figure at 0x11030b0f0>"
      ]
     },
     "metadata": {},
     "output_type": "display_data"
    }
   ],
   "source": [
    "plt.boxplot([sk_mem,custom_mem])\n",
    "plt.title(\"Comparing Memory \")\n",
    "plt.xlabel('Implementation ')\n",
    "plt.ylabel('Memory Usage (mb) ')\n",
    "plt.xticks([1,2],['SKL','OURS'])\n",
    "plt.figure()"
   ]
  },
  {
   "cell_type": "markdown",
   "metadata": {
    "collapsed": true
   },
   "source": [
    "It looks like both implementations use similar amounts of memory, with SKL using a wider range. But there really isn't a clearly superior implementation."
   ]
  },
  {
   "cell_type": "code",
   "execution_count": null,
   "metadata": {
    "collapsed": true
   },
   "outputs": [],
   "source": []
  }
 ],
 "metadata": {
  "anaconda-cloud": {},
  "kernelspec": {
   "display_name": "Python [conda root]",
   "language": "python",
   "name": "conda-root-py"
  },
  "language_info": {
   "codemirror_mode": {
    "name": "ipython",
    "version": 3
   },
   "file_extension": ".py",
   "mimetype": "text/x-python",
   "name": "python",
   "nbconvert_exporter": "python",
   "pygments_lexer": "ipython3",
   "version": "3.5.2"
  }
 },
 "nbformat": 4,
 "nbformat_minor": 2
}
