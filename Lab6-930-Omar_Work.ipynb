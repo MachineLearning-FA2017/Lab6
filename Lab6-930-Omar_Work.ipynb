{
 "cells": [
  {
   "cell_type": "code",
   "execution_count": 7,
   "metadata": {
    "collapsed": false
   },
   "outputs": [
    {
     "name": "stdout",
     "output_type": "stream",
     "text": [
      "The memory_profiler extension is already loaded. To reload it, use:\n",
      "  %reload_ext memory_profiler\n"
     ]
    }
   ],
   "source": [
    "import pandas as pd\n",
    "import numpy as np\n",
    "import matplotlib.pyplot as plt\n",
    "import warnings\n",
    "warnings.simplefilter('ignore', DeprecationWarning)\n",
    "%matplotlib inline \n",
    "%load_ext memory_profiler\n",
    "from sklearn.metrics import make_scorer\n",
    "from scipy.special import expit\n",
    "import time\n",
    "import math\n",
    "import random\n",
    "from memory_profiler import memory_usage\n",
    "from sklearn import metrics as mt\n",
    "from sklearn.neural_network import MLPClassifier\n",
    "from sklearn.model_selection import StratifiedKFold\n",
    "\n",
    "\n",
    "\n",
    "from sklearn.decomposition import PCA\n",
    "from sklearn.pipeline import Pipeline\n",
    "from sklearn.model_selection import GridSearchCV\n",
    "\n",
    "target_classifier = 'PC'\n",
    "df = pd.read_csv('responses.csv', sep=\",\")"
   ]
  },
  {
   "cell_type": "code",
   "execution_count": 8,
   "metadata": {
    "collapsed": true
   },
   "outputs": [],
   "source": [
    "# remove rows whose target classfier value is NaN\n",
    "df_cleaned_classifier = df[np.isfinite(df[target_classifier])]\n",
    "# change NaN number values to the mean\n",
    "df_imputed = df_cleaned_classifier.fillna(df.mean())\n",
    "# get categorical features\n",
    "object_features = list(df_cleaned_classifier.select_dtypes(include=['object']).columns)\n",
    "# one hot encode categorical features\n",
    "one_hot_df = pd.concat([pd.get_dummies(df_imputed[col],prefix=col) for col in object_features], axis=1)\n",
    "# drop object features from imputed dataframe\n",
    "df_imputed_dropped = df_imputed.drop(object_features, 1)\n",
    "frames = [df_imputed_dropped, one_hot_df]\n",
    "# concatenate both frames by columns\n",
    "df_fixed = pd.concat(frames, axis=1)"
   ]
  },
  {
   "cell_type": "code",
   "execution_count": 9,
   "metadata": {
    "collapsed": false
   },
   "outputs": [
    {
     "data": {
      "text/plain": [
       "make_scorer(get_confusion_costTot, greater_is_better=False)"
      ]
     },
     "execution_count": 9,
     "metadata": {},
     "output_type": "execute_result"
    }
   ],
   "source": [
    "# Research on Cost Matrix\n",
    "# http://www.ibm.com/support/knowledgecenter/SSEPGG_11.1.0/com.ibm.im.model.doc/c_cost_matrix.html\n",
    "\n",
    "cost_matrix = np.matrix([[0,1,2,3,4],\n",
    "[1,0,1,2,3],\n",
    "[3,1,0,1,2],\n",
    "[5,3,1,0,1],\n",
    "[7,5,2,1,0]])\n",
    "\n",
    "def get_confusion_costTot(confusion_matrix, cost_matrix):\n",
    "    score = np.sum(confusion_matrix*cost_matrix)\n",
    "    return score\n",
    "\n",
    "confusion_scorer = make_scorer(get_confusion_costTot, greater_is_better=False)\n",
    "confusion_scorer"
   ]
  },
  {
   "cell_type": "code",
   "execution_count": 10,
   "metadata": {
    "collapsed": false
   },
   "outputs": [
    {
     "name": "stdout",
     "output_type": "stream",
     "text": [
      "StratifiedKFold(n_splits=10, random_state=None, shuffle=True)\n"
     ]
    }
   ],
   "source": [
    "from sklearn.model_selection import ShuffleSplit\n",
    "\n",
    "# we want to predict the X and y data as follows:\n",
    "if target_classifier in df_fixed:\n",
    "    y = df_fixed[target_classifier].values # get the labels we want\n",
    "    del df_fixed[target_classifier] # get rid of the class label\n",
    "    X = df_fixed.values # use everything else to predict!\n",
    "\n",
    "X = X/5\n",
    "num_folds = 10\n",
    "\n",
    "cv_object = StratifiedKFold(n_splits= num_folds, random_state=None, shuffle=True)\n",
    "cv_object.split(X,y)\n",
    "\n",
    "print(cv_object)"
   ]
  },
  {
   "cell_type": "code",
   "execution_count": 11,
   "metadata": {
    "collapsed": true
   },
   "outputs": [],
   "source": [
    "for train_indices, test_indices in cv_object.split(X,y): \n",
    "        # I will create new variables here so that it is more obvious what \n",
    "        # the code is doing (you can compact this syntax and avoid duplicating memory,\n",
    "        # but it makes this code less readable)\n",
    "        X_train = (X[train_indices])\n",
    "        y_train = y[train_indices]\n",
    "\n",
    "    #     print(X_train)\n",
    "    #     print(y_train)\n",
    "\n",
    "        X_test = (X[test_indices])\n",
    "        y_test = y[test_indices]"
   ]
  },
  {
   "cell_type": "code",
   "execution_count": 30,
   "metadata": {
    "collapsed": false
   },
   "outputs": [],
   "source": [
    "\n",
    "\n",
    "\n",
    "clf = MLPClassifier(hidden_layer_sizes=(50, ), \n",
    "                            activation='relu', # type of non-linearity, every layer\n",
    "                            solver='sgd', \n",
    "                            alpha=1e-4, # L2 penalty\n",
    "                            batch_size= 'auto', # min of 200, num_samples\n",
    "                            learning_rate='constant', # adapt learning? only for sgd\n",
    "                            learning_rate_init=0.1, # only SGD\n",
    "                            power_t=0.0,    # only SGD with inverse scaling of learning rate\n",
    "                            max_iter=75, # stopping criteria\n",
    "                            shuffle=True, \n",
    "                            random_state=1, \n",
    "                            tol=0, # for stopping\n",
    "                            verbose=False, \n",
    "                            warm_start=False, \n",
    "                            momentum=0.9, # only SGD\n",
    "                            nesterovs_momentum=False, # only SGD\n",
    "                            early_stopping=False, \n",
    "                            validation_fraction=0.0, # only if early_stop is true\n",
    "                            beta_1=0.9, # adam decay rate of moment\n",
    "                            beta_2=0.999, # adam decay rate of moment\n",
    "                            epsilon=1e-08) # adam numerical stabilizer\n",
    "    \n",
    "\n"
   ]
  },
  {
   "cell_type": "code",
   "execution_count": 31,
   "metadata": {
    "collapsed": false
   },
   "outputs": [],
   "source": [
    "from sklearn.ensemble import BaggingClassifier\n",
    "\n",
    "class MyEnsemble():\n",
    "    \n",
    "    def __init__(self, c, num_c, max_s, v):\n",
    "        self.Ensemble = BaggingClassifier(base_estimator= c,\n",
    "                                    n_estimators = num_c,\n",
    "                                     max_samples = max_s,\n",
    "                                     verbose = v)\n",
    "    def predict(self, X):\n",
    "        return self.Ensemble.predict(X)\n",
    "    \n",
    "    def fit(self, X,y):\n",
    "        self.Ensemble.fit(X,y)\n",
    "        \n",
    "    def predict_proba(self, X):\n",
    "        return self.Ensemble.predict_proba(X)"
   ]
  },
  {
   "cell_type": "code",
   "execution_count": 45,
   "metadata": {
    "collapsed": false
   },
   "outputs": [
    {
     "name": "stdout",
     "output_type": "stream",
     "text": [
      "[ 4.  4.  4.  4.  3.  4.  4.  4.  4.  4.  3.  4.  4.  4.  4.  4.  3.  4.\n",
      "  4.  4.  4.  3.  4.  4.  4.  3.  4.  4.  4.  3.  4.  4.  4.  4.  3.  4.\n",
      "  4.  3.  3.  3.  4.  4.  4.  4.  4.  4.  4.  4.  4.  4.  4.  3.  4.  4.\n",
      "  4.  4.  4.  3.  4.  3.  4.  4.  4.  4.  4.  3.  4.  3.  4.  3.  4.  3.\n",
      "  4.  3.  4.  4.  3.  4.  4.  4.  4.  4.  4.  4.  4.  3.  4.  4.  4.  4.\n",
      "  4.  4.  4.  4.  4.  4.  4.  4.]\n",
      "(906, 172)\n"
     ]
    }
   ],
   "source": [
    "num_instances = 20\n",
    "\n",
    "\n",
    "ensemble = MyEnsemble(clf, num_instances,100,False)\n",
    "\n",
    "ensemble.fit(X_train,y_train)\n",
    "y_hat=ensemble.predict(X_test)\n",
    "print(y_hat)\n",
    "\n",
    "\n",
    "print(X_train.shape)"
   ]
  },
  {
   "cell_type": "code",
   "execution_count": 42,
   "metadata": {
    "collapsed": false
   },
   "outputs": [
    {
     "data": {
      "text/plain": [
       "array([[ 0.12103032,  0.20351941,  0.26594029,  0.20537988,  0.2041301 ],\n",
       "       [ 0.12101987,  0.20351702,  0.26593818,  0.20539675,  0.20412817],\n",
       "       [ 0.12103032,  0.20351941,  0.26594029,  0.20537988,  0.2041301 ],\n",
       "       [ 0.12103032,  0.20351941,  0.26594029,  0.20537988,  0.2041301 ],\n",
       "       [ 0.12103032,  0.20351941,  0.26594029,  0.20537988,  0.2041301 ],\n",
       "       [ 0.12103032,  0.20351941,  0.26594029,  0.20537988,  0.2041301 ],\n",
       "       [ 0.12103032,  0.20351941,  0.26594029,  0.20537988,  0.2041301 ],\n",
       "       [ 0.12103032,  0.20351941,  0.26594029,  0.20537988,  0.2041301 ],\n",
       "       [ 0.12103032,  0.20351941,  0.26594029,  0.20537988,  0.2041301 ],\n",
       "       [ 0.12103032,  0.20351941,  0.26594029,  0.20537988,  0.2041301 ],\n",
       "       [ 0.12103032,  0.20351941,  0.26594029,  0.20537988,  0.2041301 ],\n",
       "       [ 0.12103032,  0.20351941,  0.26594029,  0.20537988,  0.2041301 ],\n",
       "       [ 0.12103032,  0.20351941,  0.26594029,  0.20537988,  0.2041301 ],\n",
       "       [ 0.12103032,  0.20351941,  0.26594029,  0.20537988,  0.2041301 ],\n",
       "       [ 0.12103032,  0.20351941,  0.26594029,  0.20537988,  0.2041301 ],\n",
       "       [ 0.12103032,  0.20351941,  0.26594029,  0.20537988,  0.2041301 ],\n",
       "       [ 0.12106913,  0.20353535,  0.26597894,  0.2053306 ,  0.20408598],\n",
       "       [ 0.12103032,  0.20351941,  0.26594029,  0.20537988,  0.2041301 ],\n",
       "       [ 0.12103032,  0.20351941,  0.26594029,  0.20537988,  0.2041301 ],\n",
       "       [ 0.12103032,  0.20351941,  0.26594029,  0.20537988,  0.2041301 ],\n",
       "       [ 0.12103032,  0.20351941,  0.26594029,  0.20537988,  0.2041301 ],\n",
       "       [ 0.12103032,  0.20351941,  0.26594029,  0.20537988,  0.2041301 ],\n",
       "       [ 0.12103032,  0.20351941,  0.26594029,  0.20537988,  0.2041301 ],\n",
       "       [ 0.12103032,  0.20351941,  0.26594029,  0.20537988,  0.2041301 ],\n",
       "       [ 0.12103032,  0.20351941,  0.26594029,  0.20537988,  0.2041301 ],\n",
       "       [ 0.12103032,  0.20351941,  0.26594029,  0.20537988,  0.2041301 ],\n",
       "       [ 0.12103032,  0.20351941,  0.26594029,  0.20537988,  0.2041301 ],\n",
       "       [ 0.12103032,  0.20351941,  0.26594029,  0.20537988,  0.2041301 ],\n",
       "       [ 0.12103032,  0.20351941,  0.26594029,  0.20537988,  0.2041301 ],\n",
       "       [ 0.12103032,  0.20351941,  0.26594029,  0.20537988,  0.2041301 ],\n",
       "       [ 0.12103032,  0.20351941,  0.26594029,  0.20537988,  0.2041301 ],\n",
       "       [ 0.12103032,  0.20351941,  0.26594029,  0.20537988,  0.2041301 ],\n",
       "       [ 0.12103032,  0.20351941,  0.26594029,  0.20537988,  0.2041301 ],\n",
       "       [ 0.12103032,  0.20351941,  0.26594029,  0.20537988,  0.2041301 ],\n",
       "       [ 0.12103032,  0.20351941,  0.26594029,  0.20537988,  0.2041301 ],\n",
       "       [ 0.12103032,  0.20351941,  0.26594029,  0.20537988,  0.2041301 ],\n",
       "       [ 0.12103032,  0.20351941,  0.26594029,  0.20537988,  0.2041301 ],\n",
       "       [ 0.12619958,  0.203078  ,  0.26600343,  0.20243158,  0.20228741],\n",
       "       [ 0.12103032,  0.20351941,  0.26594029,  0.20537988,  0.2041301 ],\n",
       "       [ 0.12103032,  0.20351941,  0.26594029,  0.20537988,  0.2041301 ],\n",
       "       [ 0.12103032,  0.20351941,  0.26594029,  0.20537988,  0.2041301 ],\n",
       "       [ 0.12103032,  0.20351941,  0.26594029,  0.20537988,  0.2041301 ],\n",
       "       [ 0.12103032,  0.20351941,  0.26594029,  0.20537988,  0.2041301 ],\n",
       "       [ 0.12103032,  0.20351941,  0.26594029,  0.20537988,  0.2041301 ],\n",
       "       [ 0.12103032,  0.20351941,  0.26594029,  0.20537988,  0.2041301 ],\n",
       "       [ 0.12103032,  0.20351941,  0.26594029,  0.20537988,  0.2041301 ],\n",
       "       [ 0.12103032,  0.20351941,  0.26594029,  0.20537988,  0.2041301 ],\n",
       "       [ 0.12103032,  0.20351941,  0.26594029,  0.20537988,  0.2041301 ],\n",
       "       [ 0.12103032,  0.20351941,  0.26594029,  0.20537988,  0.2041301 ],\n",
       "       [ 0.12103032,  0.20351941,  0.26594029,  0.20537988,  0.2041301 ],\n",
       "       [ 0.12103032,  0.20351941,  0.26594029,  0.20537988,  0.2041301 ],\n",
       "       [ 0.12103032,  0.20351941,  0.26594029,  0.20537988,  0.2041301 ],\n",
       "       [ 0.12103032,  0.20351941,  0.26594029,  0.20537988,  0.2041301 ],\n",
       "       [ 0.12103032,  0.20351941,  0.26594029,  0.20537988,  0.2041301 ],\n",
       "       [ 0.12103032,  0.20351941,  0.26594029,  0.20537988,  0.2041301 ],\n",
       "       [ 0.12103032,  0.20351941,  0.26594029,  0.20537988,  0.2041301 ],\n",
       "       [ 0.12103032,  0.20351941,  0.26594029,  0.20537988,  0.2041301 ],\n",
       "       [ 0.12103032,  0.20351941,  0.26594029,  0.20537988,  0.2041301 ],\n",
       "       [ 0.12103032,  0.20351941,  0.26594029,  0.20537988,  0.2041301 ],\n",
       "       [ 0.12103032,  0.20351941,  0.26594029,  0.20537988,  0.2041301 ],\n",
       "       [ 0.12103032,  0.20351941,  0.26594029,  0.20537988,  0.2041301 ],\n",
       "       [ 0.12103032,  0.20351941,  0.26594029,  0.20537988,  0.2041301 ],\n",
       "       [ 0.12103032,  0.20351941,  0.26594029,  0.20537988,  0.2041301 ],\n",
       "       [ 0.12103032,  0.20351941,  0.26594029,  0.20537988,  0.2041301 ],\n",
       "       [ 0.12103032,  0.20351941,  0.26594029,  0.20537988,  0.2041301 ],\n",
       "       [ 0.12103032,  0.20351941,  0.26594029,  0.20537988,  0.2041301 ],\n",
       "       [ 0.12103032,  0.20351941,  0.26594029,  0.20537988,  0.2041301 ],\n",
       "       [ 0.12103032,  0.20351941,  0.26594029,  0.20537988,  0.2041301 ],\n",
       "       [ 0.12103032,  0.20351941,  0.26594029,  0.20537988,  0.2041301 ],\n",
       "       [ 0.12103032,  0.20351941,  0.26594029,  0.20537988,  0.2041301 ],\n",
       "       [ 0.12103032,  0.20351941,  0.26594029,  0.20537988,  0.2041301 ],\n",
       "       [ 0.12103032,  0.20351941,  0.26594029,  0.20537988,  0.2041301 ],\n",
       "       [ 0.12103032,  0.20351941,  0.26594029,  0.20537988,  0.2041301 ],\n",
       "       [ 0.12103032,  0.20351941,  0.26594029,  0.20537988,  0.2041301 ],\n",
       "       [ 0.12103032,  0.20351941,  0.26594029,  0.20537988,  0.2041301 ],\n",
       "       [ 0.12103032,  0.20351941,  0.26594029,  0.20537988,  0.2041301 ],\n",
       "       [ 0.12230879,  0.20398771,  0.26689456,  0.20391502,  0.20289393],\n",
       "       [ 0.12103032,  0.20351941,  0.26594029,  0.20537988,  0.2041301 ],\n",
       "       [ 0.12103032,  0.20351941,  0.26594029,  0.20537988,  0.2041301 ],\n",
       "       [ 0.12103032,  0.20351941,  0.26594029,  0.20537988,  0.2041301 ],\n",
       "       [ 0.12103032,  0.20351941,  0.26594029,  0.20537988,  0.2041301 ],\n",
       "       [ 0.12103032,  0.20351941,  0.26594029,  0.20537988,  0.2041301 ],\n",
       "       [ 0.12103032,  0.20351941,  0.26594029,  0.20537988,  0.2041301 ],\n",
       "       [ 0.12103032,  0.20351941,  0.26594029,  0.20537988,  0.2041301 ],\n",
       "       [ 0.12103032,  0.20351941,  0.26594029,  0.20537988,  0.2041301 ],\n",
       "       [ 0.12103032,  0.20351941,  0.26594029,  0.20537988,  0.2041301 ],\n",
       "       [ 0.12114947,  0.20354627,  0.26556268,  0.20538588,  0.2043557 ],\n",
       "       [ 0.12103032,  0.20351941,  0.26594029,  0.20537988,  0.2041301 ],\n",
       "       [ 0.12103032,  0.20351941,  0.26594029,  0.20537988,  0.2041301 ],\n",
       "       [ 0.12103032,  0.20351941,  0.26594029,  0.20537988,  0.2041301 ],\n",
       "       [ 0.12103032,  0.20351941,  0.26594029,  0.20537988,  0.2041301 ],\n",
       "       [ 0.12103032,  0.20351941,  0.26594029,  0.20537988,  0.2041301 ],\n",
       "       [ 0.12103032,  0.20351941,  0.26594029,  0.20537988,  0.2041301 ],\n",
       "       [ 0.12103032,  0.20351941,  0.26594029,  0.20537988,  0.2041301 ],\n",
       "       [ 0.12103032,  0.20351941,  0.26594029,  0.20537988,  0.2041301 ],\n",
       "       [ 0.12103032,  0.20351941,  0.26594029,  0.20537988,  0.2041301 ],\n",
       "       [ 0.12103032,  0.20351941,  0.26594029,  0.20537988,  0.2041301 ],\n",
       "       [ 0.12103032,  0.20351941,  0.26594029,  0.20537988,  0.2041301 ]])"
      ]
     },
     "execution_count": 42,
     "metadata": {},
     "output_type": "execute_result"
    }
   ],
   "source": [
    "ensemble.predict_proba(X_test)"
   ]
  },
  {
   "cell_type": "code",
   "execution_count": 29,
   "metadata": {
    "collapsed": false
   },
   "outputs": [
    {
     "name": "stdout",
     "output_type": "stream",
     "text": [
      "[[ 0 13  0  0  0]\n",
      " [ 0 20  0  0  0]\n",
      " [ 0 25  0  0  0]\n",
      " [ 0 20  0  0  0]\n",
      " [ 0 20  0  0  0]]\n"
     ]
    }
   ],
   "source": [
    " acc = mt.accuracy_score(y_test,y_hat)\n",
    "            #         lr_clf_accuracies.append(acc)\n",
    "            #         cost_accuracies.append([acc])\n",
    "\n",
    "conf = mt.confusion_matrix(y_test,y_hat)\n",
    "print(conf)"
   ]
  },
  {
   "cell_type": "code",
   "execution_count": null,
   "metadata": {
    "collapsed": true
   },
   "outputs": [],
   "source": [
    "confidence = ensemble."
   ]
  },
  {
   "cell_type": "code",
   "execution_count": 18,
   "metadata": {
    "collapsed": false
   },
   "outputs": [],
   "source": [
    "score = get_confusion_costTot(conf, cost_matrix)"
   ]
  },
  {
   "cell_type": "code",
   "execution_count": 19,
   "metadata": {
    "collapsed": false
   },
   "outputs": [
    {
     "data": {
      "text/plain": [
       "980"
      ]
     },
     "execution_count": 19,
     "metadata": {},
     "output_type": "execute_result"
    }
   ],
   "source": [
    "score"
   ]
  },
  {
   "cell_type": "code",
   "execution_count": null,
   "metadata": {
    "collapsed": true
   },
   "outputs": [],
   "source": [
    "# Great! Its seems we are also maxing out the F1 score, lets go with C==1e-3\n",
    "from sklearn.metrics import roc_curve, auc\n",
    "from scipy import interp\n",
    "\n",
    "K = 4\n",
    "\n",
    "if sklearn_version < '0.18':\n",
    "    from sklearn.cross_validation import StratifiedKFold\n",
    "    kfold = StratifiedKFold(y=y_train, \n",
    "                            n_folds=K,\n",
    "                            random_state=1)\n",
    "else:\n",
    "    from sklearn.model_selection import StratifiedKFold\n",
    "    kfold = StratifiedKFold(n_splits=K,\n",
    "                            random_state=1).split(X_train, y_train)\n",
    "\n",
    "\n",
    "mean_tpr = 0.0\n",
    "mean_fpr = np.linspace(0, 1, 100)\n",
    "all_tpr = []\n",
    "\n",
    "for i, (train, test) in enumerate(kfold):\n",
    "    probas = pipe_lr.fit(X_train[train],\n",
    "                         y_train[train]).predict_proba(X_train[test])\n",
    "\n",
    "    perclass_mean_tpr = 0.0\n",
    "    roc_auc = 0\n",
    "    classes = np.unique(y_train[train])\n",
    "    # get the mean fpr and tpr, per class\n",
    "    for j in classes:\n",
    "        fpr, tpr, thresholds = roc_curve(y_train[test],\n",
    "                                         probas[:, j],\n",
    "                                         pos_label=j)\n",
    "        perclass_mean_tpr += interp(mean_fpr, fpr, tpr)\n",
    "        perclass_mean_tpr[0] = 0.0\n",
    "        roc_auc += auc(fpr, tpr)\n",
    "        \n",
    "    perclass_mean_tpr /= len(classes)\n",
    "    roc_auc /= len(classes)\n",
    "    mean_tpr += perclass_mean_tpr\n",
    "    plt.plot(mean_fpr,perclass_mean_tpr,'--',lw=1,label='Mean Class ROC fold %d (area = %0.2f)'\n",
    "                   % (i+1, roc_auc))\n",
    "    \n",
    "mean_tpr /= K\n",
    "mean_auc = auc(mean_fpr, mean_tpr)\n",
    "plt.plot(mean_fpr,perclass_mean_tpr,'k-',lw=2,label='Total Mean ROC (area = %0.2f)'\n",
    "                   % (mean_auc))\n",
    "plt.legend(loc='best')\n",
    "plt.grid()"
   ]
  }
 ],
 "metadata": {
  "kernelspec": {
   "display_name": "Python [default]",
   "language": "python",
   "name": "python3"
  },
  "language_info": {
   "codemirror_mode": {
    "name": "ipython",
    "version": 3
   },
   "file_extension": ".py",
   "mimetype": "text/x-python",
   "name": "python",
   "nbconvert_exporter": "python",
   "pygments_lexer": "ipython3",
   "version": "3.5.2"
  }
 },
 "nbformat": 4,
 "nbformat_minor": 2
}
