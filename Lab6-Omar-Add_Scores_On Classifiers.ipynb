{
 "cells": [
  {
   "cell_type": "code",
   "execution_count": 2,
   "metadata": {
    "collapsed": false
   },
   "outputs": [],
   "source": [
    "import itertools\n",
    "import pandas as pd\n",
    "import numpy as np\n",
    "import matplotlib.pyplot as plt\n",
    "import warnings\n",
    "warnings.simplefilter('ignore', DeprecationWarning)\n",
    "%matplotlib inline \n",
    "%load_ext memory_profiler\n",
    "from sklearn.metrics import make_scorer\n",
    "from scipy.special import expit\n",
    "import time\n",
    "import math\n",
    "import random\n",
    "from memory_profiler import memory_usage\n",
    "from sklearn import metrics as mt\n",
    "from sklearn.neural_network import MLPClassifier\n",
    "from sklearn.model_selection import StratifiedKFold\n",
    "\n",
    "\n",
    "\n",
    "from sklearn.decomposition import PCA\n",
    "from sklearn.pipeline import Pipeline\n",
    "from sklearn.model_selection import GridSearchCV\n",
    "\n",
    "target_classifier = 'PC'\n",
    "df = pd.read_csv('responses.csv', sep=\",\")"
   ]
  },
  {
   "cell_type": "code",
   "execution_count": 3,
   "metadata": {
    "collapsed": true
   },
   "outputs": [],
   "source": [
    "# remove rows whose target classfier value is NaN\n",
    "df_cleaned_classifier = df[np.isfinite(df[target_classifier])]\n",
    "# change NaN number values to the mean\n",
    "df_imputed = df_cleaned_classifier.fillna(df.mean())\n",
    "# get categorical features\n",
    "object_features = list(df_cleaned_classifier.select_dtypes(include=['object']).columns)\n",
    "# one hot encode categorical features\n",
    "one_hot_df = pd.concat([pd.get_dummies(df_imputed[col],prefix=col) for col in object_features], axis=1)\n",
    "# drop object features from imputed dataframe\n",
    "df_imputed_dropped = df_imputed.drop(object_features, 1)\n",
    "frames = [df_imputed_dropped, one_hot_df]\n",
    "# concatenate both frames by columns\n",
    "df_fixed = pd.concat(frames, axis=1)"
   ]
  },
  {
   "cell_type": "code",
   "execution_count": 4,
   "metadata": {
    "collapsed": false
   },
   "outputs": [
    {
     "data": {
      "text/plain": [
       "make_scorer(get_confusion_costTot, greater_is_better=False)"
      ]
     },
     "execution_count": 4,
     "metadata": {},
     "output_type": "execute_result"
    }
   ],
   "source": [
    "# Research on Cost Matrix\n",
    "# http://www.ibm.com/support/knowledgecenter/SSEPGG_11.1.0/com.ibm.im.model.doc/c_cost_matrix.html\n",
    "\n",
    "cost_matrix = np.matrix([[0,1,2,3,4],\n",
    "[1,0,1,2,3],\n",
    "[3,1,0,1,2],\n",
    "[5,3,1,0,1],\n",
    "[7,5,2,1,0]])\n",
    "\n",
    "def get_confusion_costTot(confusion_matrix, cost_matrix):\n",
    "    score = np.sum(confusion_matrix*cost_matrix)\n",
    "    return score\n",
    "\n",
    "confusion_scorer = make_scorer(get_confusion_costTot, greater_is_better=False)\n",
    "confusion_scorer"
   ]
  },
  {
   "cell_type": "code",
   "execution_count": 5,
   "metadata": {
    "collapsed": false
   },
   "outputs": [
    {
     "name": "stdout",
     "output_type": "stream",
     "text": [
      "StratifiedKFold(n_splits=10, random_state=None, shuffle=True)\n"
     ]
    }
   ],
   "source": [
    "from sklearn.model_selection import ShuffleSplit\n",
    "\n",
    "# we want to predict the X and y data as follows:\n",
    "if target_classifier in df_fixed:\n",
    "    y = df_fixed[target_classifier].values # get the labels we want\n",
    "    del df_fixed[target_classifier] # get rid of the class label\n",
    "    X = df_fixed.values # use everything else to predict!\n",
    "\n",
    "X = X/5\n",
    "num_folds = 10\n",
    "\n",
    "cv_object = StratifiedKFold(n_splits= num_folds, random_state=None, shuffle=True)\n",
    "cv_object.split(X,y)\n",
    "\n",
    "print(cv_object)"
   ]
  },
  {
   "cell_type": "code",
   "execution_count": 6,
   "metadata": {
    "collapsed": false
   },
   "outputs": [],
   "source": [
    "for train_indices, test_indices in cv_object.split(X,y): \n",
    "        # I will create new variables here so that it is more obvious what \n",
    "        # the code is doing (you can compact this syntax and avoid duplicating memory,\n",
    "        # but it makes this code less readable)\n",
    "        X_train = (X[train_indices])\n",
    "        y_train = y[train_indices]\n",
    "\n",
    "    #     print(X_train)\n",
    "    #     print(y_train)\n",
    "\n",
    "        X_test = (X[test_indices])\n",
    "        y_test = y[test_indices]"
   ]
  },
  {
   "cell_type": "code",
   "execution_count": 7,
   "metadata": {
    "collapsed": false
   },
   "outputs": [],
   "source": [
    "\n",
    "\n",
    "\n",
    "clf = MLPClassifier()\n",
    "    \n",
    "\n"
   ]
  },
  {
   "cell_type": "code",
   "execution_count": 8,
   "metadata": {
    "collapsed": false
   },
   "outputs": [],
   "source": [
    "from sklearn.ensemble import BaggingClassifier\n",
    "\n",
    "class MyEnsemble():\n",
    "    \n",
    "    def __init__(self, c, num_c, max_s, v):\n",
    "        self.Ensemble = BaggingClassifier(base_estimator= c,\n",
    "                                    n_estimators = num_c,\n",
    "                                     max_samples = max_s,\n",
    "                                     verbose = v)\n",
    "    def predict(self, X):\n",
    "        return self.Ensemble.predict(X)\n",
    "    \n",
    "    def fit(self, X,y):\n",
    "        self.Ensemble.fit(X,y)\n",
    "        \n",
    "        \n",
    "    def predict_proba(self, X):\n",
    "        return self.Ensemble.predict_proba(X)"
   ]
  },
  {
   "cell_type": "code",
   "execution_count": 9,
   "metadata": {
    "collapsed": false
   },
   "outputs": [
    {
     "name": "stdout",
     "output_type": "stream",
     "text": [
      "[[ 2  0  1  0  0]\n",
      " [ 7 12  5  2  1]\n",
      " [ 4  6 10  7  5]\n",
      " [ 0  1  4  6  4]\n",
      " [ 0  1  5  5 10]]\n",
      "(906, 172)\n"
     ]
    }
   ],
   "source": [
    "num_instances = 10\n",
    "\n",
    "\n",
    "ensemble = MyEnsemble(clf, 10,y_train.shape[0],False)\n",
    "\n",
    "ensemble.fit(X_train,y_train)\n",
    "ensemble_y_hat = ensemble.predict(X_test)\n",
    "# print(y_hat)\n",
    "print(mt.confusion_matrix(ensemble_y_hat,y_test))\n",
    "\n",
    "print(X_train.shape)"
   ]
  },
  {
   "cell_type": "code",
   "execution_count": 10,
   "metadata": {
    "collapsed": false
   },
   "outputs": [
    {
     "data": {
      "text/plain": [
       "array([[  1.30124009e-01,   1.36394680e-01,   1.32388344e-01,\n",
       "          4.11404595e-01,   1.89688372e-01],\n",
       "       [  2.10076883e-01,   2.68524820e-01,   1.59159311e-01,\n",
       "          2.83123319e-01,   7.91156674e-02],\n",
       "       [  1.24388693e-01,   1.30880250e-01,   5.08023523e-01,\n",
       "          2.03174929e-01,   3.35326040e-02],\n",
       "       [  4.54253927e-03,   4.13157086e-02,   8.06101339e-02,\n",
       "          5.01088453e-01,   3.72443165e-01],\n",
       "       [  3.47497381e-02,   1.15726046e-01,   3.35670426e-01,\n",
       "          3.48024486e-01,   1.65829305e-01],\n",
       "       [  1.82202183e-01,   3.34031656e-01,   3.26510577e-01,\n",
       "          1.06108585e-01,   5.11469987e-02],\n",
       "       [  5.49462249e-01,   2.47050709e-01,   1.79136204e-01,\n",
       "          2.13726788e-02,   2.97815910e-03],\n",
       "       [  3.58214402e-01,   5.22463048e-01,   6.07381928e-02,\n",
       "          4.52772097e-02,   1.33071480e-02],\n",
       "       [  2.68954375e-01,   2.96519548e-01,   2.64195020e-01,\n",
       "          1.34513177e-01,   3.58178796e-02],\n",
       "       [  2.54584173e-02,   1.17343827e-01,   2.89181686e-01,\n",
       "          3.65123490e-01,   2.02892580e-01],\n",
       "       [  3.11789617e-01,   3.79437492e-01,   1.23018047e-01,\n",
       "          1.58518452e-01,   2.72363921e-02],\n",
       "       [  1.07650472e-02,   3.42376796e-02,   1.48578438e-01,\n",
       "          2.41349899e-01,   5.65068936e-01],\n",
       "       [  3.01301529e-01,   5.22656423e-01,   3.94941281e-02,\n",
       "          1.25483909e-01,   1.10640110e-02],\n",
       "       [  1.28910712e-01,   3.76545758e-01,   2.72568487e-01,\n",
       "          1.31828605e-01,   9.01464376e-02],\n",
       "       [  1.92612771e-01,   3.13282067e-01,   3.42807759e-01,\n",
       "          9.90468108e-02,   5.22505930e-02],\n",
       "       [  1.07615940e-01,   2.25840807e-01,   4.22744524e-01,\n",
       "          1.14399056e-01,   1.29399673e-01],\n",
       "       [  8.83832464e-02,   1.47457353e-01,   2.76378120e-01,\n",
       "          2.18418404e-01,   2.69362877e-01],\n",
       "       [  4.89962737e-02,   2.85472373e-01,   1.40389325e-01,\n",
       "          4.30266826e-01,   9.48752021e-02],\n",
       "       [  2.43575856e-02,   1.07086718e-01,   6.54141906e-01,\n",
       "          1.26555084e-01,   8.78587066e-02],\n",
       "       [  1.50745451e-02,   5.78327170e-02,   3.67562325e-02,\n",
       "          3.54811701e-01,   5.35524804e-01],\n",
       "       [  3.05211303e-01,   4.51161474e-01,   1.14725185e-01,\n",
       "          1.12764306e-01,   1.61377317e-02],\n",
       "       [  5.35451556e-03,   1.34103628e-02,   4.67168299e-01,\n",
       "          2.71186875e-01,   2.42879947e-01],\n",
       "       [  1.89204874e-01,   2.70292726e-01,   3.76739240e-01,\n",
       "          1.37438049e-01,   2.63251114e-02],\n",
       "       [  4.08004916e-03,   5.22353118e-02,   3.00905711e-01,\n",
       "          2.69578701e-01,   3.73200228e-01],\n",
       "       [  9.92774029e-02,   5.15760482e-01,   3.47594082e-01,\n",
       "          2.46554380e-02,   1.27125955e-02],\n",
       "       [  9.47335237e-02,   1.18269728e-01,   2.78873563e-01,\n",
       "          2.25183574e-01,   2.82939611e-01],\n",
       "       [  3.31678730e-01,   4.32151103e-01,   9.28184620e-02,\n",
       "          4.69508950e-02,   9.64008104e-02],\n",
       "       [  4.79277716e-02,   7.77504241e-02,   1.14273858e-01,\n",
       "          5.47237925e-01,   2.12810021e-01],\n",
       "       [  3.41567338e-02,   8.41141166e-02,   3.23045482e-01,\n",
       "          2.81300042e-01,   2.77383625e-01],\n",
       "       [  2.48935580e-01,   5.34431117e-01,   1.43470553e-01,\n",
       "          5.55991122e-02,   1.75636379e-02],\n",
       "       [  8.86507761e-02,   4.84407794e-01,   1.47582294e-01,\n",
       "          2.14013853e-01,   6.53452824e-02],\n",
       "       [  1.21302445e-01,   6.31101181e-01,   1.69339900e-01,\n",
       "          7.15745687e-02,   6.68190459e-03],\n",
       "       [  2.34967205e-01,   5.49990116e-01,   1.60537528e-01,\n",
       "          4.09601318e-02,   1.35450183e-02],\n",
       "       [  6.79035737e-02,   1.03660033e-01,   4.11420395e-01,\n",
       "          1.91967583e-01,   2.25048415e-01],\n",
       "       [  2.90948170e-01,   2.45641443e-01,   4.05878824e-01,\n",
       "          3.79974512e-02,   1.95341108e-02],\n",
       "       [  4.85969370e-02,   8.18762590e-02,   1.51571215e-01,\n",
       "          4.88802866e-01,   2.29152722e-01],\n",
       "       [  2.07582550e-01,   4.75730494e-01,   2.40075492e-01,\n",
       "          6.15965433e-02,   1.50149206e-02],\n",
       "       [  2.47311930e-01,   3.84523387e-01,   1.23169461e-01,\n",
       "          1.56454557e-01,   8.85406646e-02],\n",
       "       [  5.14652646e-03,   1.21348266e-01,   3.51797686e-01,\n",
       "          1.16130911e-01,   4.05576610e-01],\n",
       "       [  1.56041863e-01,   3.35468818e-01,   1.63665057e-01,\n",
       "          2.62787145e-01,   8.20371173e-02],\n",
       "       [  3.64614299e-01,   4.29946161e-01,   1.49564984e-01,\n",
       "          4.22013478e-02,   1.36732085e-02],\n",
       "       [  4.30219723e-02,   1.66850123e-01,   1.47394188e-01,\n",
       "          4.05050355e-01,   2.37683362e-01],\n",
       "       [  2.79872775e-01,   3.82968445e-01,   9.64149238e-02,\n",
       "          2.11775966e-01,   2.89678905e-02],\n",
       "       [  8.12249064e-03,   4.66121295e-02,   1.81887172e-01,\n",
       "          2.64046050e-01,   4.99332158e-01],\n",
       "       [  1.09193480e-01,   1.97484482e-01,   3.59338344e-01,\n",
       "          2.76667462e-01,   5.73162312e-02],\n",
       "       [  8.64265786e-02,   4.08267138e-01,   3.59116666e-01,\n",
       "          1.14620110e-01,   3.15695074e-02],\n",
       "       [  2.69425809e-01,   4.33890341e-01,   2.14884301e-01,\n",
       "          6.22289730e-02,   1.95705759e-02],\n",
       "       [  1.24949531e-02,   3.68610613e-02,   1.61969748e-01,\n",
       "          2.21148274e-01,   5.67525964e-01],\n",
       "       [  2.17628294e-02,   1.28922187e-01,   6.95333655e-01,\n",
       "          1.08729037e-01,   4.52522920e-02],\n",
       "       [  1.15927830e-02,   3.88863306e-02,   3.46742360e-01,\n",
       "          1.81662317e-01,   4.21116210e-01],\n",
       "       [  2.51122015e-03,   7.52904596e-03,   9.00640243e-02,\n",
       "          2.17904083e-01,   6.81991627e-01],\n",
       "       [  8.03594829e-02,   3.93266740e-01,   4.11288463e-01,\n",
       "          1.03500506e-01,   1.15848078e-02],\n",
       "       [  2.40207464e-01,   1.80100657e-01,   3.40622367e-01,\n",
       "          1.80228994e-01,   5.88405189e-02],\n",
       "       [  7.96770050e-02,   1.15312389e-01,   6.12577134e-01,\n",
       "          1.31733934e-01,   6.06995376e-02],\n",
       "       [  5.74660338e-02,   4.86084830e-02,   2.91777971e-01,\n",
       "          2.19121051e-01,   3.83026461e-01],\n",
       "       [  4.46142742e-02,   2.36514602e-01,   4.92707807e-01,\n",
       "          1.66717550e-01,   5.94457671e-02],\n",
       "       [  2.22522402e-01,   1.11224343e-01,   1.73376674e-01,\n",
       "          2.53659607e-01,   2.39216974e-01],\n",
       "       [  3.36316329e-03,   3.88464112e-02,   1.26957526e-01,\n",
       "          3.82424370e-01,   4.48408530e-01],\n",
       "       [  1.00705350e-01,   2.46862350e-01,   3.24173779e-01,\n",
       "          1.79566493e-01,   1.48692027e-01],\n",
       "       [  2.14129166e-02,   7.76487155e-02,   1.39946751e-01,\n",
       "          6.44718418e-01,   1.16273199e-01],\n",
       "       [  5.19506210e-03,   6.05596686e-02,   2.70398419e-01,\n",
       "          1.92311596e-01,   4.71535254e-01],\n",
       "       [  1.26051745e-02,   2.23169984e-01,   2.42368929e-01,\n",
       "          1.72885643e-01,   3.48970270e-01],\n",
       "       [  1.01361822e-01,   7.69439462e-02,   1.71238487e-01,\n",
       "          2.28433198e-01,   4.22022547e-01],\n",
       "       [  2.44539260e-01,   1.25572714e-01,   4.26434646e-01,\n",
       "          1.83862692e-01,   1.95906880e-02],\n",
       "       [  4.53508434e-01,   2.61891970e-01,   1.03160908e-01,\n",
       "          5.38883463e-02,   1.27550341e-01],\n",
       "       [  3.37933885e-02,   3.39391108e-01,   2.31924012e-01,\n",
       "          1.36712912e-01,   2.58178579e-01],\n",
       "       [  7.39036527e-02,   2.60403380e-01,   3.88134429e-01,\n",
       "          2.33858649e-01,   4.36998898e-02],\n",
       "       [  7.75760706e-02,   2.15469031e-01,   5.81612241e-01,\n",
       "          9.84676140e-02,   2.68750441e-02],\n",
       "       [  1.13226180e-01,   2.29845332e-01,   6.02557400e-01,\n",
       "          2.70893755e-02,   2.72817127e-02],\n",
       "       [  3.60529190e-01,   3.85884886e-01,   1.90084930e-01,\n",
       "          4.43261172e-02,   1.91748761e-02],\n",
       "       [  1.18339216e-01,   2.03873454e-01,   2.15847901e-01,\n",
       "          3.29039580e-01,   1.32899850e-01],\n",
       "       [  1.65899794e-01,   5.03285144e-01,   2.28099005e-01,\n",
       "          6.04158209e-02,   4.23002351e-02],\n",
       "       [  6.50716809e-02,   6.57746079e-02,   2.14987013e-01,\n",
       "          3.22931734e-01,   3.31234965e-01],\n",
       "       [  3.67073682e-02,   1.40494360e-01,   4.13877802e-01,\n",
       "          3.28939781e-01,   7.99806891e-02],\n",
       "       [  3.80818784e-02,   7.67173170e-02,   6.09575682e-01,\n",
       "          1.47524639e-01,   1.28100484e-01],\n",
       "       [  1.82981222e-01,   5.36664119e-01,   1.58478216e-01,\n",
       "          1.02881935e-01,   1.89945084e-02],\n",
       "       [  1.11019952e-01,   2.11041938e-01,   1.98540968e-01,\n",
       "          3.86840022e-01,   9.25571197e-02],\n",
       "       [  1.65491915e-02,   5.16326325e-02,   3.34726334e-01,\n",
       "          1.70715355e-01,   4.26376487e-01],\n",
       "       [  6.18990515e-02,   1.92210436e-01,   2.57838034e-01,\n",
       "          2.37636724e-01,   2.50415755e-01],\n",
       "       [  1.45998080e-01,   2.89913328e-01,   2.89237585e-01,\n",
       "          2.22166762e-01,   5.26842448e-02],\n",
       "       [  1.67750125e-01,   3.24631992e-01,   2.01764226e-01,\n",
       "          1.95710569e-01,   1.10143088e-01],\n",
       "       [  8.96401567e-02,   4.15404955e-01,   2.83694302e-01,\n",
       "          1.52132485e-01,   5.91281012e-02],\n",
       "       [  6.45291962e-02,   1.57586568e-01,   5.21910817e-01,\n",
       "          7.86922328e-02,   1.77281186e-01],\n",
       "       [  3.79267482e-02,   8.71576108e-02,   1.90076988e-01,\n",
       "          2.32106158e-01,   4.52732495e-01],\n",
       "       [  2.05764507e-02,   8.80138518e-02,   3.00953276e-01,\n",
       "          4.99489486e-01,   9.09669356e-02],\n",
       "       [  2.75845570e-02,   1.20442127e-01,   3.78538541e-01,\n",
       "          3.07095200e-01,   1.66339575e-01],\n",
       "       [  7.63430489e-02,   2.42199838e-01,   3.45192967e-01,\n",
       "          2.43936462e-01,   9.23276833e-02],\n",
       "       [  4.27660738e-03,   1.93966366e-02,   1.78287278e-01,\n",
       "          9.79315800e-02,   7.00107898e-01],\n",
       "       [  5.33595437e-01,   4.27803621e-01,   3.09637594e-02,\n",
       "          7.20088488e-03,   4.36297023e-04],\n",
       "       [  7.72822898e-02,   1.95458914e-01,   4.89205623e-01,\n",
       "          1.66501540e-01,   7.15516324e-02],\n",
       "       [  1.19547747e-01,   1.54616030e-01,   3.40453061e-01,\n",
       "          2.78755283e-01,   1.06627879e-01],\n",
       "       [  3.49588087e-02,   1.99156074e-01,   3.82361310e-01,\n",
       "          1.96472041e-01,   1.87051766e-01],\n",
       "       [  1.06290315e-01,   3.82007308e-01,   4.22258884e-01,\n",
       "          3.79127053e-02,   5.15307880e-02],\n",
       "       [  5.81710108e-03,   4.87259582e-02,   2.84453228e-01,\n",
       "          3.71102398e-01,   2.89901314e-01],\n",
       "       [  9.40754821e-03,   7.00099899e-03,   7.93889711e-02,\n",
       "          2.92159406e-01,   6.12043076e-01],\n",
       "       [  2.28189064e-03,   9.19591796e-03,   5.00792332e-02,\n",
       "          2.00988537e-01,   7.37454421e-01],\n",
       "       [  4.35783102e-02,   1.65696885e-01,   2.51348142e-01,\n",
       "          2.23912967e-01,   3.15463696e-01],\n",
       "       [  1.66508376e-01,   2.86855210e-01,   4.11329278e-01,\n",
       "          1.12585329e-01,   2.27218062e-02]])"
      ]
     },
     "execution_count": 10,
     "metadata": {},
     "output_type": "execute_result"
    }
   ],
   "source": [
    "ensemble.predict_proba(X_test)"
   ]
  },
  {
   "cell_type": "code",
   "execution_count": 11,
   "metadata": {
    "collapsed": true
   },
   "outputs": [],
   "source": [
    "def plot_confusion_matrix(cm, classes,\n",
    "                          normalize=False,\n",
    "                          title='Confusion matrix',\n",
    "                          cmap=plt.cm.Blues):\n",
    "    \"\"\"\n",
    "    This function prints and plots the confusion matrix.\n",
    "    Normalization can be applied by setting `normalize=True`.\n",
    "    \"\"\"\n",
    "    plt.imshow(cm, interpolation='nearest', cmap=cmap)\n",
    "    plt.title(title)\n",
    "    plt.colorbar()\n",
    "    tick_marks = np.arange(len(classes))\n",
    "    plt.xticks(tick_marks, classes, rotation=45)\n",
    "    plt.yticks(tick_marks, classes)\n",
    "\n",
    "    if normalize:\n",
    "        cm = cm.astype('float') / cm.sum(axis=1)[:, np.newaxis]\n",
    "        print(\"Normalized confusion matrix\")\n",
    "    else:\n",
    "        print('Confusion matrix, without normalization')\n",
    "\n",
    "    print(cm)\n",
    "\n",
    "    thresh = cm.max() / 2.\n",
    "    for i, j in itertools.product(range(cm.shape[0]), range(cm.shape[1])):\n",
    "        plt.text(j, i, cm[i, j],\n",
    "                 horizontalalignment=\"center\",\n",
    "                 color=\"white\" if cm[i, j] > thresh else \"black\")\n",
    "\n",
    "    plt.tight_layout()\n",
    "    plt.ylabel('True label')\n",
    "    plt.xlabel('Predicted label')"
   ]
  },
  {
   "cell_type": "code",
   "execution_count": 12,
   "metadata": {
    "collapsed": false
   },
   "outputs": [
    {
     "name": "stdout",
     "output_type": "stream",
     "text": [
      "Confusion matrix, without normalization\n",
      "[[ 2  7  4  0  0]\n",
      " [ 0 12  6  1  1]\n",
      " [ 1  5 10  4  5]\n",
      " [ 0  2  7  6  5]\n",
      " [ 0  1  5  4 10]]\n"
     ]
    },
    {
     "data": {
      "image/png": "[encoded data removed]",
      "text/plain": [
       "<matplotlib.figure.Figure at 0x1109f1d30>"
      ]
     },
     "metadata": {},
     "output_type": "display_data"
    }
   ],
   "source": [
    "acc = mt.accuracy_score(y_test,ensemble_y_hat)\n",
    "            #         lr_clf_accuracies.append(acc)\n",
    "            #         cost_accuracies.append([acc])\n",
    "\n",
    "ensemble_conf = mt.confusion_matrix(y_test,ensemble_y_hat)\n",
    "plot_confusion_matrix(ensemble_conf, classes=[0, 1, 2, 3, 4])"
   ]
  },
  {
   "cell_type": "code",
   "execution_count": 13,
   "metadata": {
    "collapsed": false
   },
   "outputs": [
    {
     "name": "stdout",
     "output_type": "stream",
     "text": [
      "Confusion matrix, without normalization\n",
      "[[ 3  6  3  0  1]\n",
      " [ 2 10  6  1  1]\n",
      " [ 1  4  9  7  4]\n",
      " [ 1  2  5  9  3]\n",
      " [ 0  2  1  5 12]]\n"
     ]
    },
    {
     "data": {
      "image/png": "[encoded data removed]",
      "text/plain": [
       "<matplotlib.figure.Figure at 0x1013da278>"
      ]
     },
     "metadata": {},
     "output_type": "display_data"
    }
   ],
   "source": [
    "clf.fit(X_train, y_train)\n",
    "clf_y_hat = clf.predict(X_test)\n",
    "plot_confusion_matrix(mt.confusion_matrix(y_test, clf_y_hat), classes=[0, 1, 2, 3, 4])"
   ]
  },
  {
   "cell_type": "code",
   "execution_count": 37,
   "metadata": {
    "collapsed": false
   },
   "outputs": [
    {
     "data": {
      "text/plain": [
       "908"
      ]
     },
     "execution_count": 37,
     "metadata": {},
     "output_type": "execute_result"
    }
   ],
   "source": [
    "ensemble_score = get_confusion_costTot(ensemble_conf, cost_matrix)\n",
    "ensemble_score"
   ]
  },
  {
   "cell_type": "code",
   "execution_count": 38,
   "metadata": {
    "collapsed": false
   },
   "outputs": [
    {
     "data": {
      "text/plain": [
       "908"
      ]
     },
     "execution_count": 38,
     "metadata": {},
     "output_type": "execute_result"
    }
   ],
   "source": [
    "ensemble_score"
   ]
  },
  {
   "cell_type": "code",
   "execution_count": 39,
   "metadata": {
    "collapsed": false
   },
   "outputs": [],
   "source": [
    "total_scores = []\n",
    "\n",
    "estimators = ensemble.Ensemble.estimators_\n",
    "\n",
    "for estimator in estimators:\n",
    "    \n",
    "    estimator.fit(X_train, y_train)\n",
    "    estimator_y_hat = estimator.predict(X_test)\n",
    "    estimator_conf = mt.confusion_matrix(y_test, estimator_y_hat)\n",
    "    score = get_confusion_costTot(estimator_conf, cost_matrix)\n",
    "    total_scores.append(score)\n",
    "    "
   ]
  },
  {
   "cell_type": "code",
   "execution_count": 51,
   "metadata": {
    "collapsed": false
   },
   "outputs": [
    {
     "name": "stdout",
     "output_type": "stream",
     "text": [
      "[894, 923, 928, 929, 924, 892, 921, 921, 895, 889, 908]\n"
     ]
    }
   ],
   "source": [
    "print(total_scores)"
   ]
  },
  {
   "cell_type": "code",
   "execution_count": 42,
   "metadata": {
    "collapsed": false
   },
   "outputs": [
    {
     "name": "stdout",
     "output_type": "stream",
     "text": [
      "[894, 923, 928, 929, 924, 892, 921, 921, 895, 889, 908]\n"
     ]
    }
   ],
   "source": [
    "total_scores.append(ensemble_score)\n",
    "print(total_scores)\n"
   ]
  },
  {
   "cell_type": "code",
   "execution_count": 83,
   "metadata": {
    "collapsed": false
   },
   "outputs": [
    {
     "data": {
      "text/plain": [
       "<matplotlib.text.Text at 0x115897da0>"
      ]
     },
     "execution_count": 83,
     "metadata": {},
     "output_type": "execute_result"
    },
    {
     "data": {
      "image/png": "[encoded data removed]",
      "text/plain": [
       "<matplotlib.figure.Figure at 0x1152f81d0>"
      ]
     },
     "metadata": {},
     "output_type": "display_data"
    }
   ],
   "source": [
    "names = ('MLP1', 'MLP2', 'MLP3', 'MLP4', 'MLP5', 'MLP6', 'MLP7', 'MLP8', 'MLP9' ,'MLP10', \"OUR_Ensemble\")\n",
    "yticks = [1,2,3,4,5,6,7,8,9,10,11]\n",
    "xticks = [0,100,200,300,400,500,600,700,800,900]\n",
    "\n",
    "fig = plt.figure()\n",
    "plt.barh(nums, total_scores, 0.4)\n",
    "\n",
    "plt.xlabel('Scores')\n",
    "plt.ylabel('Classifier')\n",
    "plt.yticks(yticks, names)\n",
    "plt.xticks(xticks)\n",
    "plt.title(\"Ensemble vs Classifier Scores\")\n"
   ]
  },
  {
   "cell_type": "code",
   "execution_count": null,
   "metadata": {
    "collapsed": true
   },
   "outputs": [],
   "source": []
  }
 ],
 "metadata": {
  "kernelspec": {
   "display_name": "Python [default]",
   "language": "python",
   "name": "python3"
  },
  "language_info": {
   "codemirror_mode": {
    "name": "ipython",
    "version": 3
   },
   "file_extension": ".py",
   "mimetype": "text/x-python",
   "name": "python",
   "nbconvert_exporter": "python",
   "pygments_lexer": "ipython3",
   "version": "3.5.2"
  }
 },
 "nbformat": 4,
 "nbformat_minor": 2
}
