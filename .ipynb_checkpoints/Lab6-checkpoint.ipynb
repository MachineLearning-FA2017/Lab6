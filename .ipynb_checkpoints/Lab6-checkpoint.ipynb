{
 "cells": [
  {
   "cell_type": "code",
   "execution_count": null,
   "metadata": {
    "collapsed": true
   },
   "outputs": [],
   "source": [
    "import numpy as np\n",
    "import random"
   ]
  },
  {
   "cell_type": "code",
   "execution_count": null,
   "metadata": {
    "collapsed": true
   },
   "outputs": [],
   "source": [
    "class MyEnsemble(c, X, y):\n",
    "    def __init__(self):\n",
    "        self.c = c\n",
    "        self._w = []\n",
    "        self.X = X\n",
    "        self.y = y\n",
    "        self._p = []\n",
    "        self._bags\n",
    "        \n",
    "    def predict(self, x){\n",
    "        self._p = np.hstack(predict_proba(x))\n",
    "        totals = self._p.T * self.w\n",
    "        return(np.amax(totals))    \n",
    "    }\n",
    "\n",
    "    def fit(self){\n",
    "        i = 0\n",
    "        for n in self.c:\n",
    "            for classifier, bags in zip(self.c[i], self._bags[i]):\n",
    "                # want to fit each classifier with each vector in bag\n",
    "                classifier.predict_proba(bags)\n",
    "            i+=1\n",
    "    }\n",
    "\n",
    "    def _sample(self){\n",
    "        self._bags = self.X[np.random.randint(len(self.c), 20), :]\n",
    "    }"
   ]
  }
 ],
 "metadata": {
  "kernelspec": {
   "display_name": "Python [default]",
   "language": "python",
   "name": "python3"
  },
  "language_info": {
   "codemirror_mode": {
    "name": "ipython",
    "version": 3
   },
   "file_extension": ".py",
   "mimetype": "text/x-python",
   "name": "python",
   "nbconvert_exporter": "python",
   "pygments_lexer": "ipython3",
   "version": "3.5.2"
  }
 },
 "nbformat": 4,
 "nbformat_minor": 2
}
